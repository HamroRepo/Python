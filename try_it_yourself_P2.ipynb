{
 "metadata": {
  "language_info": {
   "codemirror_mode": {
    "name": "ipython",
    "version": 3
   },
   "file_extension": ".py",
   "mimetype": "text/x-python",
   "name": "python",
   "nbconvert_exporter": "python",
   "pygments_lexer": "ipython3",
   "version": "3.8.2"
  },
  "orig_nbformat": 2,
  "kernelspec": {
   "name": "python382jvsc74a57bd001e4a4ef43d7435a6845fd7336130797196ba9e9ad58f05806271349b7c58ab1",
   "display_name": "Python 3.8.2 64-bit"
  },
  "metadata": {
   "interpreter": {
    "hash": "01e4a4ef43d7435a6845fd7336130797196ba9e9ad58f05806271349b7c58ab1"
   }
  }
 },
 "nbformat": 4,
 "nbformat_minor": 2,
 "cells": [
  {
   "source": [
    "## Chapter 6\n",
    "- Dictionaries"
   ],
   "cell_type": "markdown",
   "metadata": {}
  },
  {
   "cell_type": "code",
   "execution_count": 2,
   "metadata": {},
   "outputs": [
    {
     "output_type": "stream",
     "name": "stdout",
     "text": [
      "Rabindra\nBaisnab\n21\nBhaktapur\n"
     ]
    }
   ],
   "source": [
    "#6-1. Person:\n",
    "person ={'first_name':'Rabindra','last_name':'Baisnab','age':21,'city':'Bhaktapur'}\n",
    "print(person['first_name'])\n",
    "print(person['last_name'])\n",
    "print(person['age'])\n",
    "print(person['city'])"
   ]
  },
  {
   "cell_type": "code",
   "execution_count": 4,
   "metadata": {},
   "outputs": [
    {
     "output_type": "stream",
     "name": "stdout",
     "text": [
      "Rabindra's favorite number is 18\nAayush's favorite number is 4\nHishan's favorite number is 1\nPrasmit's favorite number is 16\nAshwin's favorite number is 20\n"
     ]
    }
   ],
   "source": [
    "#6-2. Favorite Numbers:\n",
    "favorite_numbers ={'Rabindra':18,'aayush':'4','hishan':1,'prasmit':'16','ashwin':'20'}\n",
    "print(\"Rabindra's favorite number is \"+str(favorite_numbers['Rabindra']))\n",
    "print(\"Aayush's favorite number is \"+str(favorite_numbers['aayush']))\n",
    "print(\"Hishan's favorite number is \"+str(favorite_numbers['hishan']))\n",
    "print(\"Prasmit's favorite number is \"+str(favorite_numbers['prasmit']))\n",
    "print(\"Ashwin's favorite number is \"+str(favorite_numbers['ashwin']))"
   ]
  },
  {
   "cell_type": "code",
   "execution_count": 7,
   "metadata": {},
   "outputs": [
    {
     "output_type": "stream",
     "name": "stdout",
     "text": [
      "title : make the 1st letter of a word capital\n\nlen : gives the length of the string\n\nappend : use to add in list\n\npop : use to remove the last item from the list\n\ndel : use to remove specified index item from the list\n\n"
     ]
    }
   ],
   "source": [
    "#6-3. Glossary:\n",
    "glossary={\n",
    "    'title':'make the 1st letter of a word capital',\n",
    "    'len':'gives the length of the string',\n",
    "    'append':'use to add in list',\n",
    "    'pop':'use to remove the last item from the list',\n",
    "    'del':'use to remove specified index item from the list'}\n",
    "print('title : '+glossary['title']+'\\n')\n",
    "print('len : '+glossary['len']+'\\n')\n",
    "print('append : '+glossary['append']+'\\n')\n",
    "print('pop : '+glossary['pop']+'\\n')\n",
    "print('del : '+glossary['del']+'\\n')"
   ]
  },
  {
   "cell_type": "code",
   "execution_count": 11,
   "metadata": {},
   "outputs": [
    {
     "output_type": "stream",
     "name": "stdout",
     "text": [
      "title : make the 1st letter of a word capital\nlen : gives the length of the string\nappend : use to add in list\npop : use to remove the last item from the list\ndel : use to remove specified index item from the list\n"
     ]
    }
   ],
   "source": [
    "#6-4. Glossary 2:\n",
    "for key,value in glossary.items():\n",
    "    print(key+\" : \"+value)\n"
   ]
  },
  {
   "cell_type": "code",
   "execution_count": 20,
   "metadata": {},
   "outputs": [
    {
     "output_type": "stream",
     "name": "stdout",
     "text": [
      "The Nile runs through Egypt\nThe Amazon runs through South America\nThe Mississipi runs through North America\n\n\nNile\nAmazon\nMississipi\n\n\nEgypt\nSouth America\nNorth America\n"
     ]
    }
   ],
   "source": [
    "#6-5. Rivers:\n",
    "river={'nile':'egypt','amazon':'south america','mississipi':'north america'}\n",
    "\n",
    "for river_name,country in river.items():\n",
    "    print(\"The \"+river_name.title()+' runs through '+country.title())\n",
    "\n",
    "print(\"\\n\")\n",
    "for river_name in river.keys():\n",
    "    print(river_name.title())\n",
    "\n",
    "print(\"\\n\")\n",
    "for country in river.values():\n",
    "    print(country.title())"
   ]
  },
  {
   "cell_type": "code",
   "execution_count": 24,
   "metadata": {},
   "outputs": [
    {
     "output_type": "stream",
     "name": "stdout",
     "text": [
      "Hi Prasmit!, Please take the poll.\nHi Rabindra!, Thank you for your respond.\n"
     ]
    }
   ],
   "source": [
    "#6-6. Polling:\n",
    "favroite_langugaes={\n",
    "    'aayish':'python',\n",
    "    'hishan':'c',\n",
    "    'ashwin':'ruby',\n",
    "    'rabindra':'python'\n",
    "}\n",
    "\n",
    "friends=['prasmit','rabindra']\n",
    "\n",
    "for name in friends:\n",
    "    if name in favroite_langugaes.keys():\n",
    "        print(\"Hi \"+name.title()+\"!, Thank you for your respond.\")\n",
    "    else:\n",
    "        print(\"Hi \"+name.title()+\"!, Please take the poll.\")"
   ]
  },
  {
   "cell_type": "code",
   "execution_count": null,
   "metadata": {},
   "outputs": [],
   "source": []
  }
 ]
}