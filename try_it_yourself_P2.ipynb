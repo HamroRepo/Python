{
 "metadata": {
  "language_info": {
   "codemirror_mode": {
    "name": "ipython",
    "version": 3
   },
   "file_extension": ".py",
   "mimetype": "text/x-python",
   "name": "python",
   "nbconvert_exporter": "python",
   "pygments_lexer": "ipython3",
   "version": "3.8.2"
  },
  "orig_nbformat": 2,
  "kernelspec": {
   "name": "python382jvsc74a57bd001e4a4ef43d7435a6845fd7336130797196ba9e9ad58f05806271349b7c58ab1",
   "display_name": "Python 3.8.2 64-bit"
  },
  "metadata": {
   "interpreter": {
    "hash": "01e4a4ef43d7435a6845fd7336130797196ba9e9ad58f05806271349b7c58ab1"
   }
  }
 },
 "nbformat": 4,
 "nbformat_minor": 2,
 "cells": [
  {
   "source": [
    "## Chapter 6\n",
    "- Dictionaries"
   ],
   "cell_type": "markdown",
   "metadata": {}
  },
  {
   "cell_type": "code",
   "execution_count": 2,
   "metadata": {},
   "outputs": [
    {
     "output_type": "stream",
     "name": "stdout",
     "text": [
      "Rabindra\nBaisnab\n21\nBhaktapur\n"
     ]
    }
   ],
   "source": [
    "#6-1. Person:\n",
    "person ={'first_name':'Rabindra','last_name':'Baisnab','age':21,'city':'Bhaktapur'}\n",
    "print(person['first_name'])\n",
    "print(person['last_name'])\n",
    "print(person['age'])\n",
    "print(person['city'])"
   ]
  },
  {
   "cell_type": "code",
   "execution_count": 4,
   "metadata": {},
   "outputs": [
    {
     "output_type": "stream",
     "name": "stdout",
     "text": [
      "Rabindra's favorite number is 18\nAayush's favorite number is 4\nHishan's favorite number is 1\nPrasmit's favorite number is 16\nAshwin's favorite number is 20\n"
     ]
    }
   ],
   "source": [
    "#6-2. Favorite Numbers:\n",
    "favorite_numbers ={'Rabindra':18,'aayush':'4','hishan':1,'prasmit':'16','ashwin':'20'}\n",
    "print(\"Rabindra's favorite number is \"+str(favorite_numbers['Rabindra']))\n",
    "print(\"Aayush's favorite number is \"+str(favorite_numbers['aayush']))\n",
    "print(\"Hishan's favorite number is \"+str(favorite_numbers['hishan']))\n",
    "print(\"Prasmit's favorite number is \"+str(favorite_numbers['prasmit']))\n",
    "print(\"Ashwin's favorite number is \"+str(favorite_numbers['ashwin']))"
   ]
  },
  {
   "cell_type": "code",
   "execution_count": 7,
   "metadata": {},
   "outputs": [
    {
     "output_type": "stream",
     "name": "stdout",
     "text": [
      "title : make the 1st letter of a word capital\n\nlen : gives the length of the string\n\nappend : use to add in list\n\npop : use to remove the last item from the list\n\ndel : use to remove specified index item from the list\n\n"
     ]
    }
   ],
   "source": [
    "#6-3. Glossary:\n",
    "glossary={\n",
    "    'title':'make the 1st letter of a word capital',\n",
    "    'len':'gives the length of the string',\n",
    "    'append':'use to add in list',\n",
    "    'pop':'use to remove the last item from the list',\n",
    "    'del':'use to remove specified index item from the list'}\n",
    "print('title : '+glossary['title']+'\\n')\n",
    "print('len : '+glossary['len']+'\\n')\n",
    "print('append : '+glossary['append']+'\\n')\n",
    "print('pop : '+glossary['pop']+'\\n')\n",
    "print('del : '+glossary['del']+'\\n')"
   ]
  },
  {
   "cell_type": "code",
   "execution_count": 11,
   "metadata": {},
   "outputs": [
    {
     "output_type": "stream",
     "name": "stdout",
     "text": [
      "title : make the 1st letter of a word capital\nlen : gives the length of the string\nappend : use to add in list\npop : use to remove the last item from the list\ndel : use to remove specified index item from the list\n"
     ]
    }
   ],
   "source": [
    "#6-4. Glossary 2:\n",
    "for key,value in glossary.items():\n",
    "    print(key+\" : \"+value)\n"
   ]
  },
  {
   "cell_type": "code",
   "execution_count": 20,
   "metadata": {},
   "outputs": [
    {
     "output_type": "stream",
     "name": "stdout",
     "text": [
      "The Nile runs through Egypt\nThe Amazon runs through South America\nThe Mississipi runs through North America\n\n\nNile\nAmazon\nMississipi\n\n\nEgypt\nSouth America\nNorth America\n"
     ]
    }
   ],
   "source": [
    "#6-5. Rivers:\n",
    "river={'nile':'egypt','amazon':'south america','mississipi':'north america'}\n",
    "\n",
    "for river_name,country in river.items():\n",
    "    print(\"The \"+river_name.title()+' runs through '+country.title())\n",
    "\n",
    "print(\"\\n\")\n",
    "for river_name in river.keys():\n",
    "    print(river_name.title())\n",
    "\n",
    "print(\"\\n\")\n",
    "for country in river.values():\n",
    "    print(country.title())"
   ]
  },
  {
   "cell_type": "code",
   "execution_count": 24,
   "metadata": {},
   "outputs": [
    {
     "output_type": "stream",
     "name": "stdout",
     "text": [
      "Hi Prasmit!, Please take the poll.\nHi Rabindra!, Thank you for your respond.\n"
     ]
    }
   ],
   "source": [
    "#6-6. Polling:\n",
    "favroite_langugaes={\n",
    "    'aayish':'python',\n",
    "    'hishan':'c',\n",
    "    'ashwin':'ruby',\n",
    "    'rabindra':'python'\n",
    "}\n",
    "\n",
    "friends=['prasmit','rabindra']\n",
    "\n",
    "for name in friends:\n",
    "    if name in favroite_langugaes.keys():\n",
    "        print(\"Hi \"+name.title()+\"!, Thank you for your respond.\")\n",
    "    else:\n",
    "        print(\"Hi \"+name.title()+\"!, Please take the poll.\")"
   ]
  },
  {
   "cell_type": "code",
   "execution_count": 1,
   "metadata": {},
   "outputs": [
    {
     "output_type": "stream",
     "name": "stdout",
     "text": [
      "{'first_name': 'Rabindra', 'last_name': 'Baisnab', 'age': 21, 'city': 'Bhaktapur'}\n{'first_name': 'Prasmit', 'last_name': 'Neupane', 'age': 23, 'city': 'Kathmandu'}\n{'first_name': 'Hishan', 'last_name': 'Shrestha', 'age': 21, 'city': 'Kathmandu'}\n"
     ]
    }
   ],
   "source": [
    "#6-7. People: \n",
    "person1 ={'first_name':'Rabindra','last_name':'Baisnab','age':21,'city':'Bhaktapur'}\n",
    "person2 ={'first_name':'Prasmit','last_name':'Neupane','age':23,'city':'Kathmandu'}\n",
    "person3 ={'first_name':'Hishan','last_name':'Shrestha','age':21,'city':'Kathmandu'}\n",
    "\n",
    "person = [person1,person2,person3]\n",
    "\n",
    "for info in person:\n",
    "    print(info)"
   ]
  },
  {
   "cell_type": "code",
   "execution_count": 4,
   "metadata": {},
   "outputs": [
    {
     "output_type": "stream",
     "name": "stdout",
     "text": [
      "{'owner': 'aayush', 'pet_type': 'dog'}\n{'owner': 'rabindra', 'pet_type': 'cat'}\n{'owner': 'prasmit', 'pet_type': 'parrot'}\n"
     ]
    }
   ],
   "source": [
    "#6-8. Pets:\n",
    "bhote ={'owner':'aayush','pet_type':'dog'}\n",
    "kitty ={'owner':'rabindra','pet_type':'cat'}\n",
    "jackie={'owner':'prasmit','pet_type':'parrot'}\n",
    "\n",
    "pets=[bhote,kitty,jackie]\n",
    "\n",
    "for pet in pets:\n",
    "    print(pet)"
   ]
  },
  {
   "cell_type": "code",
   "execution_count": 8,
   "metadata": {},
   "outputs": [
    {
     "output_type": "stream",
     "name": "stdout",
     "text": [
      "aayush : \nbhaktapur\nManang\nRARA\n\n\nPrasmit : \nmustang\nrara\nABC\n\n\nrabindra : \nBhaktapur\n\n\n"
     ]
    }
   ],
   "source": [
    "#6-9. Favorite Places:\n",
    "favorite_places={\n",
    "    \"aayush\":['bhaktapur','Manang','RARA'],\n",
    "    'Prasmit':['mustang','rara','ABC'],\n",
    "    'rabindra':['Bhaktapur']\n",
    "}\n",
    "\n",
    "for name,place in favorite_places.items():\n",
    "    print(name+' : ')\n",
    "    for place_name in place:\n",
    "        print(place_name)\n",
    "    print(\"\\n\")"
   ]
  },
  {
   "cell_type": "code",
   "execution_count": 11,
   "metadata": {},
   "outputs": [
    {
     "output_type": "stream",
     "name": "stdout",
     "text": [
      "Rabindra : \n18\n21\n24\naayush : \n4\n1\nhishan : \n1\n3\nprasmit : \n16\n40\nashwin : \n2\n14\n"
     ]
    }
   ],
   "source": [
    "#6-10. Favorite Numbers:\n",
    "favorite_numbers ={'Rabindra':[18,21,24],\n",
    "'aayush':[4,1],\n",
    "'hishan':[1,3],\n",
    "'prasmit':[16,40],\n",
    "'ashwin':[2,14]}\n",
    "\n",
    "for name,numbers in favorite_numbers.items():\n",
    "    print(name+' : ')\n",
    "    for num in numbers:\n",
    "        print(num)"
   ]
  },
  {
   "cell_type": "code",
   "execution_count": 17,
   "metadata": {},
   "outputs": [
    {
     "output_type": "stream",
     "name": "stdout",
     "text": [
      "\nBhaktapur :\nCountry : Nepal\nPopulation : 300k\nfact : Smallest district of Nepal\n\nSydney :\nCountry : Australia\nPopulation : 5.12M\nfact : Best known for Opera House\n\nNew York :\nCOuntry : US\nPopulation : 8.1M\nfact : Statue of liberty lies here\n"
     ]
    }
   ],
   "source": [
    "#6-11. Cities:\n",
    "cities ={\n",
    "    'Bhaktapur':{'Country':'Nepal','Population':'300k','fact':\"Smallest district of Nepal\"},\n",
    "    'Sydney':{'Country':'Australia','Population':'5.12M','fact':'Best known for Opera House'},\n",
    "    'New York':{'COuntry':'US','Population':\"8.1M\",'fact':\"Statue of liberty lies here\"}\n",
    "}\n",
    "\n",
    "for city,ans in cities.items():\n",
    "    print('\\n'+ city+ ' :')\n",
    "    for key,value in ans.items():\n",
    "        print(key+' : '+value)\n"
   ]
  },
  {
   "cell_type": "code",
   "execution_count": 20,
   "metadata": {},
   "outputs": [
    {
     "output_type": "stream",
     "name": "stdout",
     "text": [
      "\nRabindra's favorite number are: \n18\n21\n24\n\naayush's favorite number are: \n4\n1\n\nhishan's favorite number are: \n1\n3\n\nprasmit's favorite number are: \n16\n40\n\nashwin's favorite number are: \n2\n14\n\nanwesh's favorite number are: \n5\n10\n"
     ]
    }
   ],
   "source": [
    "#6-12. Extensions:\n",
    "favorite_numbers ={'Rabindra':[18,21,24],\n",
    "'aayush':[4,1],\n",
    "'hishan':[1,3],\n",
    "'prasmit':[16,40],\n",
    "'ashwin':[2,14],\n",
    "'anwesh':[5,10]\n",
    "}\n",
    "\n",
    "for name,numbers in favorite_numbers.items():\n",
    "    print(\"\\n\"+name+\"'s favorite number are: \")\n",
    "    for num in numbers:\n",
    "        print(num)"
   ]
  },
  {
   "source": [
    "### User Input and while loops\n",
    "- Chapter 7"
   ],
   "cell_type": "markdown",
   "metadata": {}
  },
  {
   "cell_type": "code",
   "execution_count": 2,
   "metadata": {},
   "outputs": [
    {
     "output_type": "stream",
     "name": "stdout",
     "text": [
      "Let me see if I can find you a Subaru\n"
     ]
    }
   ],
   "source": [
    "#7-1. Rental Car:\n",
    "car=input(\"What kind of rental car you would like??\")\n",
    "print(\"Let me see if I can find you a \"+car.title())"
   ]
  },
  {
   "cell_type": "code",
   "execution_count": 3,
   "metadata": {},
   "outputs": [
    {
     "output_type": "stream",
     "name": "stdout",
     "text": [
      "You'll have to wait for a table\n"
     ]
    }
   ],
   "source": [
    "#7-2. Restaurant Seating:\n",
    "no_of_people=input(\"How many people are in your dinner group?\")\n",
    "no_of_people=int(no_of_people)\n",
    "\n",
    "if no_of_people>8:\n",
    "    print(\"You'll have to wait for a table\")\n",
    "else:\n",
    "    print(\"Your table is ready.\")"
   ]
  },
  {
   "cell_type": "code",
   "execution_count": 5,
   "metadata": {},
   "outputs": [
    {
     "output_type": "stream",
     "name": "stdout",
     "text": [
      "20 is multiple of 10.\n"
     ]
    }
   ],
   "source": [
    "#7-3. Multiple of Ten:\n",
    "num=input(\"Enter any number\")\n",
    "num=int(num)\n",
    "\n",
    "if num%10==0:\n",
    "    print(str(num)+\" is multiple of 10.\")\n",
    "else:\n",
    "    print(str(num)+\"Number is not multiple of 10.\")"
   ]
  },
  {
   "cell_type": "code",
   "execution_count": 6,
   "metadata": {},
   "outputs": [
    {
     "output_type": "stream",
     "name": "stdout",
     "text": [
      "I will add pepporoni\n",
      "I will add chicken\n"
     ]
    }
   ],
   "source": [
    "#7-4. Pizzas Toppings:\n",
    "prompt='Enter the pizza toppings you want to add'\n",
    "prompt+='\\n(Enter \"quit\" to stop.'\n",
    "\n",
    "active=True\n",
    "while active:\n",
    "    toppings=input(prompt)\n",
    "    if toppings.lower()=='quit':\n",
    "        active=False\n",
    "    else:\n",
    "        print(\"I will add \"+toppings)\n",
    "    \n"
   ]
  },
  {
   "cell_type": "code",
   "execution_count": 8,
   "metadata": {},
   "outputs": [
    {
     "output_type": "stream",
     "name": "stdout",
     "text": [
      "The ticket is $15.\n"
     ]
    }
   ],
   "source": [
    "#7-5. Movie Tickets:\n",
    "prompt=\"Enter your age\"\n",
    "\n",
    "active=True\n",
    "\n",
    "while active:\n",
    "    age=input(prompt)\n",
    "    age=int(age)\n",
    "    if age<3:\n",
    "        print('Ticket is free.')\n",
    "    elif age>=3 and age<12:\n",
    "        print('The ticket is $10')\n",
    "    else:\n",
    "        print(\"The ticket is $15.\")\n",
    "    \n",
    "    decision=input(\"Enter 'yes' to continue and 'no' to exit\")\n",
    "    if decision=='no':\n",
    "        active=False"
   ]
  },
  {
   "cell_type": "code",
   "execution_count": 12,
   "metadata": {},
   "outputs": [
    {
     "output_type": "stream",
     "name": "stdout",
     "text": [
      "The ticket is $15.\n",
      "The ticket is $15.\n",
      "The ticket is $10\n"
     ]
    }
   ],
   "source": [
    "#7-6. Three Exists:\n",
    "prompt=\"Enter your age\"\n",
    "prompt+=\"\\n(Enter 'quit' to exit)\"\n",
    "active=True\n",
    "\n",
    "while active:\n",
    "    age=input(prompt)\n",
    "    if age=='quit':\n",
    "        break\n",
    "    age=int(age)\n",
    "    if age<3:\n",
    "        print('Ticket is free.')\n",
    "    elif age>=3 and age<12:\n",
    "        print('The ticket is $10')\n",
    "    else:\n",
    "        print(\"The ticket is $15.\")\n",
    "    \n",
    "    \n",
    "    "
   ]
  },
  {
   "cell_type": "code",
   "execution_count": null,
   "metadata": {},
   "outputs": [],
   "source": [
    "#7.7: Infinity\n",
    "num=1\n",
    "while num<10:\n",
    "    print(num)"
   ]
  },
  {
   "cell_type": "code",
   "execution_count": 14,
   "metadata": {},
   "outputs": [
    {
     "output_type": "stream",
     "name": "stdout",
     "text": [
      "I made your chicken sandwich\nI made your simple sandwich\nI made your cheese sandwich\nI made your tuna sandwich\n['chicken', 'simple', 'cheese', 'tuna']\n"
     ]
    }
   ],
   "source": [
    "#7-8. Deli:\n",
    "sandwich_orders=['chicken','simple','cheese','tuna']\n",
    "finished_sandwich=[]\n",
    "\n",
    "while sandwich_orders:\n",
    "    sandwich=sandwich_orders.pop(0)\n",
    "    print(\"I made your \"+sandwich+\" sandwich\")\n",
    "    finished_sandwich.append(sandwich)\n",
    "\n",
    "print(finished_sandwich)"
   ]
  },
  {
   "cell_type": "code",
   "execution_count": 18,
   "metadata": {},
   "outputs": [
    {
     "output_type": "stream",
     "name": "stdout",
     "text": [
      "['chicken', 'simple', 'cheese', 'tuna']\n"
     ]
    }
   ],
   "source": [
    "#7-9. No Pastrami:\n",
    "sandwich_orders=['pastrami','chicken','pastrami','simple','cheese','tuna','pastrami']\n",
    "while 'pastrami' in sandwich_orders:\n",
    "    sandwich_orders.remove('pastrami')\n",
    "\n",
    "print(sandwich_orders)"
   ]
  },
  {
   "cell_type": "code",
   "execution_count": 21,
   "metadata": {},
   "outputs": [
    {
     "output_type": "stream",
     "name": "stdout",
     "text": [
      "--- Poll Result ---\naayush would like to visit Muatang\nPrasmit would like to visit ABC\n"
     ]
    }
   ],
   "source": [
    "#7-10. Dream vacation:\n",
    "prompt=\"If you could visit one place in the world,where would you go?\"\n",
    "poll={}\n",
    "active=True\n",
    "\n",
    "while active:\n",
    "    name=input(\"Enter your name.\")\n",
    "    response=input(prompt)\n",
    "    poll[name]=response\n",
    "\n",
    "    dec=input(\"Would you like to end the poll?(yes/no)\")\n",
    "    if dec=='yes':\n",
    "        active=False\n",
    "print(\"--- Poll Result ---\")    \n",
    "for name,response in poll.items():\n",
    "    print(name +\" would like to visit \"+response)\n"
   ]
  },
  {
   "cell_type": "code",
   "execution_count": null,
   "metadata": {},
   "outputs": [],
   "source": []
  }
 ]
}