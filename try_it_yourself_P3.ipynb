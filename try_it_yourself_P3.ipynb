{
 "metadata": {
  "language_info": {
   "codemirror_mode": {
    "name": "ipython",
    "version": 3
   },
   "file_extension": ".py",
   "mimetype": "text/x-python",
   "name": "python",
   "nbconvert_exporter": "python",
   "pygments_lexer": "ipython3",
   "version": "3.8.2"
  },
  "orig_nbformat": 2,
  "kernelspec": {
   "name": "python382jvsc74a57bd001e4a4ef43d7435a6845fd7336130797196ba9e9ad58f05806271349b7c58ab1",
   "display_name": "Python 3.8.2 64-bit"
  },
  "metadata": {
   "interpreter": {
    "hash": "01e4a4ef43d7435a6845fd7336130797196ba9e9ad58f05806271349b7c58ab1"
   }
  }
 },
 "nbformat": 4,
 "nbformat_minor": 2,
 "cells": [
  {
   "source": [
    "## Classes\n",
    "### Chapter 9"
   ],
   "cell_type": "markdown",
   "metadata": {}
  },
  {
   "cell_type": "code",
   "execution_count": 4,
   "metadata": {},
   "outputs": [
    {
     "output_type": "stream",
     "name": "stdout",
     "text": [
      "Our Thakali Bhanchhahas a best ever Thakali khana that you have never ate in your life.\nThakali Bhanchha is open\n"
     ]
    }
   ],
   "source": [
    "#9-1. Restaurant:\n",
    "class Restaurant():\n",
    "    \n",
    "    def __init__(self,restautant_name,cuisine_type):\n",
    "        self.restautant_name=restautant_name\n",
    "        self.cuisine_type=cuisine_type\n",
    "    \n",
    "    def describe_restaurant(self):\n",
    "        print(\"Our \"+self.restautant_name+\"has a best ever \"+self.cuisine_type+\" that you have never ate in your life.\")\n",
    "    \n",
    "    def open_restaurant(self):\n",
    "        print(self.restautant_name+\" is open\")\n",
    "\n",
    "my_restaurant=Restaurant('Thakali Bhanchha','Thakali khana')\n",
    "my_restaurant.describe_restaurant()\n",
    "my_restaurant.open_restaurant()"
   ]
  },
  {
   "cell_type": "code",
   "execution_count": 7,
   "metadata": {},
   "outputs": [
    {
     "output_type": "stream",
     "name": "stdout",
     "text": [
      "\nOur Thakali Bhanchhahas a best ever Thakali khana that you have never ate in your life.\nThakali Bhanchha is open\n\nOur MoMo Househas a best ever MoMo that you have never ate in your life.\nMoMo House is open\n\nOur Burger Househas a best ever Burger that you have never ate in your life.\nBurger House is open\n"
     ]
    }
   ],
   "source": [
    "# 9-2. Three Restautant:\n",
    "class Restaurant():\n",
    "    \n",
    "    def __init__(self,restautant_name,cuisine_type):\n",
    "        self.restautant_name=restautant_name\n",
    "        self.cuisine_type=cuisine_type\n",
    "    \n",
    "    def describe_restaurant(self):\n",
    "        print(\"\\nOur \"+self.restautant_name+\"has a best ever \"+self.cuisine_type+\" that you have never ate in your life.\")\n",
    "    \n",
    "    def open_restaurant(self):\n",
    "        print(self.restautant_name+\" is open\")\n",
    "\n",
    "my_restaurant=Restaurant('Thakali Bhanchha','Thakali khana')\n",
    "my_restaurant.describe_restaurant()\n",
    "my_restaurant.open_restaurant()\n",
    "my_restaurant2=Restaurant('MoMo House','MoMo')\n",
    "my_restaurant2.describe_restaurant()\n",
    "my_restaurant2.open_restaurant()\n",
    "my_restaurant3=Restaurant('Burger House','Burger')\n",
    "my_restaurant3.describe_restaurant()\n",
    "my_restaurant3.open_restaurant()"
   ]
  },
  {
   "cell_type": "code",
   "execution_count": 11,
   "metadata": {},
   "outputs": [
    {
     "output_type": "stream",
     "name": "stdout",
     "text": [
      "\nYour Full name is Aayush Raut\nGood Morning Aayush!\n\nYour Full name is Prasmit Neupane\nGood Morning Prasmit!\n\nYour Full name is Rabindra Baisnab\nGood Morning Rabindra!\n"
     ]
    }
   ],
   "source": [
    "# 9-3. Users:\n",
    "class User():\n",
    "    \n",
    "    def __init__(self,first_name,last_name):\n",
    "        self.first_name=first_name\n",
    "        self.last_name=last_name\n",
    "    \n",
    "    def describe_user(self):\n",
    "        full_name=self.first_name.title()+\" \"+self.last_name.title()\n",
    "        return full_name\n",
    "       \n",
    "    def greet_user(self):\n",
    "        print(\"Good Morning \"+self.first_name.title()+\"!\")\n",
    "    \n",
    "user1=User(\"aayush\",'raut')\n",
    "print(\"\\nYour Full name is \" + user1.describe_user())\n",
    "user1.greet_user()\n",
    "\n",
    "user1=User(\"Prasmit\",'neupane')\n",
    "print(\"\\nYour Full name is \"+user1.describe_user())\n",
    "user1.greet_user()\n",
    "\n",
    "user1=User(\"Rabindra\",'baisnab')\n",
    "print(\"\\nYour Full name is \"+user1.describe_user())\n",
    "user1.greet_user()"
   ]
  },
  {
   "cell_type": "code",
   "execution_count": null,
   "metadata": {},
   "outputs": [],
   "source": [
    "#9-4. Number Served:\n"
   ]
  }
 ]
}