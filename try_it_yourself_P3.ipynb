{
 "metadata": {
  "language_info": {
   "codemirror_mode": {
    "name": "ipython",
    "version": 3
   },
   "file_extension": ".py",
   "mimetype": "text/x-python",
   "name": "python",
   "nbconvert_exporter": "python",
   "pygments_lexer": "ipython3",
   "version": "3.8.2"
  },
  "orig_nbformat": 2,
  "kernelspec": {
   "name": "python382jvsc74a57bd001e4a4ef43d7435a6845fd7336130797196ba9e9ad58f05806271349b7c58ab1",
   "display_name": "Python 3.8.2 64-bit"
  },
  "metadata": {
   "interpreter": {
    "hash": "01e4a4ef43d7435a6845fd7336130797196ba9e9ad58f05806271349b7c58ab1"
   }
  }
 },
 "nbformat": 4,
 "nbformat_minor": 2,
 "cells": [
  {
   "source": [
    "## Classes\n",
    "### Chapter 9"
   ],
   "cell_type": "markdown",
   "metadata": {}
  },
  {
   "cell_type": "code",
   "execution_count": 4,
   "metadata": {},
   "outputs": [
    {
     "output_type": "stream",
     "name": "stdout",
     "text": [
      "Our Thakali Bhanchhahas a best ever Thakali khana that you have never ate in your life.\nThakali Bhanchha is open\n"
     ]
    }
   ],
   "source": [
    "#9-1. Restaurant:\n",
    "class Restaurant():\n",
    "    \n",
    "    def __init__(self,restautant_name,cuisine_type):\n",
    "        self.restautant_name=restautant_name\n",
    "        self.cuisine_type=cuisine_type\n",
    "    \n",
    "    def describe_restaurant(self):\n",
    "        print(\"Our \"+self.restautant_name+\"has a best ever \"+self.cuisine_type+\" that you have never ate in your life.\")\n",
    "    \n",
    "    def open_restaurant(self):\n",
    "        print(self.restautant_name+\" is open\")\n",
    "\n",
    "my_restaurant=Restaurant('Thakali Bhanchha','Thakali khana')\n",
    "my_restaurant.describe_restaurant()\n",
    "my_restaurant.open_restaurant()"
   ]
  },
  {
   "cell_type": "code",
   "execution_count": 7,
   "metadata": {},
   "outputs": [
    {
     "output_type": "stream",
     "name": "stdout",
     "text": [
      "\nOur Thakali Bhanchhahas a best ever Thakali khana that you have never ate in your life.\nThakali Bhanchha is open\n\nOur MoMo Househas a best ever MoMo that you have never ate in your life.\nMoMo House is open\n\nOur Burger Househas a best ever Burger that you have never ate in your life.\nBurger House is open\n"
     ]
    }
   ],
   "source": [
    "# 9-2. Three Restautant:\n",
    "class Restaurant():\n",
    "    \n",
    "    def __init__(self,restautant_name,cuisine_type):\n",
    "        self.restautant_name=restautant_name\n",
    "        self.cuisine_type=cuisine_type\n",
    "    \n",
    "    def describe_restaurant(self):\n",
    "        print(\"\\nOur \"+self.restautant_name+\"has a best ever \"+self.cuisine_type+\" that you have never ate in your life.\")\n",
    "    \n",
    "    def open_restaurant(self):\n",
    "        print(self.restautant_name+\" is open\")\n",
    "\n",
    "my_restaurant=Restaurant('Thakali Bhanchha','Thakali khana')\n",
    "my_restaurant.describe_restaurant()\n",
    "my_restaurant.open_restaurant()\n",
    "my_restaurant2=Restaurant('MoMo House','MoMo')\n",
    "my_restaurant2.describe_restaurant()\n",
    "my_restaurant2.open_restaurant()\n",
    "my_restaurant3=Restaurant('Burger House','Burger')\n",
    "my_restaurant3.describe_restaurant()\n",
    "my_restaurant3.open_restaurant()"
   ]
  },
  {
   "cell_type": "code",
   "execution_count": 11,
   "metadata": {},
   "outputs": [
    {
     "output_type": "stream",
     "name": "stdout",
     "text": [
      "\nYour Full name is Aayush Raut\nGood Morning Aayush!\n\nYour Full name is Prasmit Neupane\nGood Morning Prasmit!\n\nYour Full name is Rabindra Baisnab\nGood Morning Rabindra!\n"
     ]
    }
   ],
   "source": [
    "# 9-3. Users:\n",
    "class User():\n",
    "    \n",
    "    def __init__(self,first_name,last_name):\n",
    "        self.first_name=first_name\n",
    "        self.last_name=last_name\n",
    "    \n",
    "    def describe_user(self):\n",
    "        full_name=self.first_name.title()+\" \"+self.last_name.title()\n",
    "        return full_name\n",
    "       \n",
    "    def greet_user(self):\n",
    "        print(\"Good Morning \"+self.first_name.title()+\"!\")\n",
    "    \n",
    "user1=User(\"aayush\",'raut')\n",
    "print(\"\\nYour Full name is \" + user1.describe_user())\n",
    "user1.greet_user()\n",
    "\n",
    "user1=User(\"Prasmit\",'neupane')\n",
    "print(\"\\nYour Full name is \"+user1.describe_user())\n",
    "user1.greet_user()\n",
    "\n",
    "user1=User(\"Rabindra\",'baisnab')\n",
    "print(\"\\nYour Full name is \"+user1.describe_user())\n",
    "user1.greet_user()"
   ]
  },
  {
   "cell_type": "code",
   "execution_count": 3,
   "metadata": {},
   "outputs": [
    {
     "output_type": "stream",
     "name": "stdout",
     "text": [
      "Our Thakali Bhanchhahas a best ever Thakali khana that you have never ate in your life.\nThakali Bhanchha is open\nWe have served 0 orders\nWe have served 25 orders\nWe have served 35 orders\n"
     ]
    }
   ],
   "source": [
    "#9-4. Number Served:\n",
    "class Restaurant():\n",
    "    \n",
    "    def __init__(self,restautant_name,cuisine_type):\n",
    "        self.restautant_name=restautant_name\n",
    "        self.cuisine_type=cuisine_type\n",
    "        self.number_served=0\n",
    "    \n",
    "    def describe_restaurant(self):\n",
    "        print(\"Our \"+self.restautant_name+\"has a best ever \"+self.cuisine_type+\" that you have never ate in your life.\")\n",
    "    \n",
    "    def open_restaurant(self):\n",
    "        print(self.restautant_name+\" is open\")\n",
    "    \n",
    "    def set_number_served(self):\n",
    "        print(\"We have served \"+str(self.number_served)+\" orders\")\n",
    "\n",
    "    def increment_number_served(self,order):\n",
    "        self.number_served+=order\n",
    "\n",
    "my_restaurant=Restaurant('Thakali Bhanchha','Thakali khana')\n",
    "my_restaurant.describe_restaurant()\n",
    "my_restaurant.open_restaurant()\n",
    "\n",
    "my_restaurant.set_number_served()\n",
    "\n",
    "my_restaurant.number_served=25\n",
    "my_restaurant.set_number_served()\n",
    "\n",
    "my_restaurant.increment_number_served(10)\n",
    "my_restaurant.set_number_served()"
   ]
  },
  {
   "cell_type": "code",
   "execution_count": 9,
   "metadata": {},
   "outputs": [
    {
     "output_type": "stream",
     "name": "stdout",
     "text": [
      "\nYour Full name is Aayush Raut\nGood Morning Aayush!\n1\n2\n3\n4\n0\n"
     ]
    }
   ],
   "source": [
    "#9-5. Login Attempts:\n",
    "class User():\n",
    "    \n",
    "    def __init__(self,first_name,last_name):\n",
    "        self.first_name=first_name\n",
    "        self.last_name=last_name\n",
    "        self.login_attempts = 0\n",
    "    \n",
    "    def describe_user(self):\n",
    "        full_name=self.first_name.title()+\" \"+self.last_name.title()\n",
    "        return full_name\n",
    "       \n",
    "    def greet_user(self):\n",
    "        print(\"Good Morning \"+self.first_name.title()+\"!\")\n",
    "    \n",
    "    def increment_login_attempts(self):\n",
    "        self.login_attempts+=1\n",
    "    \n",
    "    def reset_login_attempts(self):\n",
    "        self.login_attempts=0\n",
    "    \n",
    "user1=User(\"aayush\",'raut')\n",
    "print(\"\\nYour Full name is \" + user1.describe_user())\n",
    "user1.greet_user()\n",
    "\n",
    "i=1\n",
    "while(i<5):\n",
    "    user1.increment_login_attempts()\n",
    "    print(user1.login_attempts)\n",
    "    i+=1\n",
    "\n",
    "user1.reset_login_attempts()\n",
    "print(user1.login_attempts)"
   ]
  },
  {
   "source": [
    "### Inheritance"
   ],
   "cell_type": "markdown",
   "metadata": {}
  },
  {
   "cell_type": "code",
   "execution_count": 17,
   "metadata": {},
   "outputs": [
    {
     "output_type": "stream",
     "name": "stdout",
     "text": [
      "Our IceCreamStandhas a best ever ice cream that you have never ate in your life.\nIceCreamStand is open\nThe famous ice cream here are: \nChocolate\nVanilla\nStawberry\n"
     ]
    }
   ],
   "source": [
    "# 9-6. Ice Cream Stand:\n",
    "class Restaurant():\n",
    "    \n",
    "    def __init__(self,restautant_name,cuisine_type):\n",
    "        self.restautant_name=restautant_name\n",
    "        self.cuisine_type=cuisine_type\n",
    "    \n",
    "    def describe_restaurant(self):\n",
    "        print(\"Our \"+self.restautant_name+\"has a best ever \"+self.cuisine_type+\" that you have never ate in your life.\")\n",
    "    \n",
    "    def open_restaurant(self):\n",
    "        print(self.restautant_name+\" is open\")\n",
    "\n",
    "\n",
    "class IceCreamStand(Restaurant):\n",
    "\n",
    "    def __init__(self,restautant_name,cuisine_type='ice cream'):\n",
    "        super().__init__(restautant_name,cuisine_type)\n",
    "        self.flavors=['Chocolate','Vanilla','Stawberry']\n",
    "    \n",
    "    def icecream_flavors(self):\n",
    "        print(\"The famous ice cream here are: \")\n",
    "        for icecream in self.flavors:\n",
    "            print(icecream)\n",
    "\n",
    "icecreamstand=IceCreamStand(\"IceCreamStand\")\n",
    "icecreamstand.describe_restaurant()\n",
    "icecreamstand.open_restaurant()\n",
    "icecreamstand.icecream_flavors()\n",
    "    "
   ]
  },
  {
   "cell_type": "code",
   "execution_count": 26,
   "metadata": {},
   "outputs": [
    {
     "output_type": "stream",
     "name": "stdout",
     "text": [
      "\nYour Full name is Aayush Raut\nGood Morning Aayush!\nAayush can delete post\nAayush can add post\nAayush can ban user\nAayushcan edit post\n"
     ]
    }
   ],
   "source": [
    "#9-7. Admin\n",
    "class User():\n",
    "    \n",
    "    def __init__(self,first_name,last_name):\n",
    "        self.first_name=first_name\n",
    "        self.last_name=last_name\n",
    "    \n",
    "    def describe_user(self):\n",
    "        full_name=self.first_name.title()+\" \"+self.last_name.title()\n",
    "        return full_name\n",
    "       \n",
    "    def greet_user(self):\n",
    "        print(\"Good Morning \"+self.first_name.title()+\"!\")\n",
    "\n",
    "class Admin(User):\n",
    "\n",
    "    def __init__(self,first_name,last_name):\n",
    "        super().__init__(first_name,last_name)\n",
    "        self.privileges=[' can delete post',' can add post',' can ban user','can edit post']\n",
    "    \n",
    "    def show_privileges(self):\n",
    "        for privileges in self.privileges:\n",
    "            print(self.first_name+privileges)\n",
    "    \n",
    "admin=Admin('Aayush','Raut')\n",
    "print(\"\\nYour Full name is \" + admin.describe_user())\n",
    "admin.greet_user()\n",
    "\n",
    "admin.show_privileges()\n",
    "\n"
   ]
  },
  {
   "cell_type": "code",
   "execution_count": 24,
   "metadata": {},
   "outputs": [
    {
     "output_type": "stream",
     "name": "stdout",
     "text": [
      "\nYour Full name is Aayush Raut\nGood Morning Aayush!\nAdmin can delete post\nAdmin can add post\nAdmin can ban user\nAdmin can edit post\n"
     ]
    }
   ],
   "source": [
    "# 9-8. Privileges\n",
    "class User():\n",
    "    \n",
    "    def __init__(self,first_name,last_name):\n",
    "        self.first_name=first_name\n",
    "        self.last_name=last_name\n",
    "    \n",
    "    def describe_user(self):\n",
    "        full_name=self.first_name.title()+\" \"+self.last_name.title()\n",
    "        return full_name\n",
    "       \n",
    "    def greet_user(self):\n",
    "        print(\"Good Morning \"+self.first_name.title()+\"!\")\n",
    "\n",
    "class Privileges():\n",
    "    def __init__(self):\n",
    "        self.privileges=['can delete post','can add post','can ban user','can edit post']    \n",
    "    \n",
    "    def show_privileges(self):\n",
    "        for privileges in self.privileges:\n",
    "            print(\"Admin \"+privileges)\n",
    "\n",
    "class Admin(User):\n",
    "\n",
    "    def __init__(self,first_name,last_name):\n",
    "        super().__init__(first_name,last_name)\n",
    "        self.privileges=Privileges()\n",
    "    \n",
    "    \n",
    "admin=Admin('Aayush','Raut')\n",
    "print(\"\\nYour Full name is \" + admin.describe_user())\n",
    "admin.greet_user()\n",
    "\n",
    "admin.privileges.show_privileges()"
   ]
  },
  {
   "cell_type": "code",
   "execution_count": 28,
   "metadata": {},
   "outputs": [
    {
     "output_type": "stream",
     "name": "stdout",
     "text": [
      "this car can go approximately 240 miles on a full charge.\nthis car can go approximately 270 miles on a full charge.\n"
     ]
    }
   ],
   "source": [
    "#9-9. Battery upgrade:\n",
    "class Car(): # Parent Class\n",
    "    \"\"\" A simple attempt to represent a car.\"\"\"\n",
    "\n",
    "    def __init__(self,make,model,year):\n",
    "        self.make = make\n",
    "        self.model=model\n",
    "        self.year=year\n",
    "        self.odometer_reading =0\n",
    "    \n",
    "    def get_descriptive(self):\n",
    "        long_name=str(self.year)+\" \"+self.make+\" \"+self.model\n",
    "        return long_name\n",
    "    \n",
    "    def read_odometer(self):\n",
    "        print(\"this car has \"+str(self.odometer_reading)+\" miles on it.\")\n",
    "    \n",
    "    def update_odometer(self,mileage):\n",
    "        if mileage>=self.odometer_reading:\n",
    "            self.odometer_reading = mileage\n",
    "        else:\n",
    "            print(\"You cant roll back on odometer.\")\n",
    "    \n",
    "    def increment_odometer(self,miles):\n",
    "        self.odometer_reading+=miles\n",
    "\n",
    "class Battery():\n",
    "    \"\"\"A simple way to model abattery from an electric car.\"\"\"\n",
    "\n",
    "    def __init__(self,battery_size=70):\n",
    "        \"\"\"Initialize the battery's attributes.\"\"\"\n",
    "        self.battery_size=battery_size\n",
    "    \n",
    "    def describe_battery(self):\n",
    "        \"\"\"Print a statement describing the battery size.\"\"\"\n",
    "        print(\"This car has a \"+str(self.battery_size)+\"-kwh battery.\")\n",
    "\n",
    "    def get_range(self):\n",
    "        \"\"\"Print a statement about the range this battery provides.\"\"\"\n",
    "        if self.battery_size==70:\n",
    "            range=240\n",
    "        elif self.battery_size==85:\n",
    "            range=270\n",
    "        \n",
    "        message=\"this car can go approximately \"+str(range)\n",
    "        message+=\" miles on a full charge.\"\n",
    "        print(message)\n",
    "    \n",
    "    def upgrade_battery(self):\n",
    "        if self.battery_size!=85:\n",
    "            self.battery_size=85\n",
    "\n",
    "class EletricCar(Car): # Child Class\n",
    "    \"\"\"Represent aspects of a car,specific to eletric vechiles.\"\"\"\n",
    "\n",
    "    def __init__(self,make,model,year):\n",
    "        \"\"\"Initialize attributes if the parent cass.\n",
    "       Then initialize attributes specific to an electric car.\"\"\"\n",
    "        super().__init__(make,model,year)\n",
    "        self.battery=Battery()\n",
    "\n",
    "my_car=EletricCar('tesla','a4',2019)\n",
    "my_car.battery.get_range()\n",
    "\n",
    "my_car.battery.upgrade_battery()\n",
    "my_car.battery.get_range()\n",
    "    \n"
   ]
  },
  {
   "cell_type": "code",
   "execution_count": null,
   "metadata": {},
   "outputs": [],
   "source": []
  }
 ]
}