{
 "metadata": {
  "language_info": {
   "codemirror_mode": {
    "name": "ipython",
    "version": 3
   },
   "file_extension": ".py",
   "mimetype": "text/x-python",
   "name": "python",
   "nbconvert_exporter": "python",
   "pygments_lexer": "ipython3",
   "version": "3.9.2-final"
  },
  "orig_nbformat": 2,
  "kernelspec": {
   "name": "python392jvsc74a57bd0528b826ff9364946398c7529e7868ecbfe1fce812a7ed73b8c11e04cf9f8e215",
   "display_name": "Python 3.9.2 64-bit"
  },
  "metadata": {
   "interpreter": {
    "hash": "528b826ff9364946398c7529e7868ecbfe1fce812a7ed73b8c11e04cf9f8e215"
   }
  }
 },
 "nbformat": 4,
 "nbformat_minor": 2,
 "cells": [
  {
   "source": [
    "#       PYTHON BRO !!!!   "
   ],
   "cell_type": "markdown",
   "metadata": {}
  },
  {
   "source": [
    "print(\"Hello World\")"
   ],
   "cell_type": "code",
   "metadata": {},
   "execution_count": null,
   "outputs": []
  },
  {
   "source": [
    "# Variables"
   ],
   "cell_type": "markdown",
   "metadata": {}
  },
  {
   "source": [
    "message=\"Hello Python world!\"\n",
    "print(message)\n"
   ],
   "cell_type": "code",
   "metadata": {},
   "execution_count": null,
   "outputs": []
  },
  {
   "source": [
    "## Strings\n",
    "- \"This is a string.\"\n",
    "- 'This is also a string.'"
   ],
   "cell_type": "markdown",
   "metadata": {}
  },
  {
   "cell_type": "code",
   "execution_count": 5,
   "metadata": {},
   "outputs": [
    {
     "output_type": "stream",
     "name": "stdout",
     "text": [
      "Ada Lovelace\nADA LOVELACE\n"
     ]
    }
   ],
   "source": [
    "name=\"ada lovelace\"\n",
    "print(name.title())\n",
    "# title() = displays each word in titlecase i.e. each words begins with capital letter\n",
    "print(name.upper())\n",
    "# upper() =returns the string in uppercase\n",
    "print(name.lower())\n",
    "# lower() return the string in lowercase."
   ]
  },
  {
   "source": [
    "## Combining or concatenating Strings\n"
   ],
   "cell_type": "markdown",
   "metadata": {}
  },
  {
   "cell_type": "code",
   "execution_count": 9,
   "metadata": {},
   "outputs": [
    {
     "output_type": "stream",
     "name": "stdout",
     "text": [
      "ada lovelace\nHello Ada Lovelace!\nHello, ada lovelace!\n"
     ]
    }
   ],
   "source": [
    "first_name=\"ada\"\n",
    "last_name=\"lovelace\"\n",
    "full_name=first_name+\" \"+last_name\n",
    "print(full_name)\n",
    "# here + symbol is used to combine the strings\n",
    "print(\"Hello\"+\" \"+full_name.title()+ \"!\")\n",
    "message = \"Hello, \"+full_name+\"!\"\n",
    "print(message)"
   ]
  },
  {
   "source": [
    "### Adding white spaces with tabs or newline"
   ],
   "cell_type": "markdown",
   "metadata": {}
  },
  {
   "cell_type": "code",
   "execution_count": 11,
   "metadata": {},
   "outputs": [
    {
     "output_type": "stream",
     "name": "stdout",
     "text": [
      "python\n\tpython\n"
     ]
    }
   ],
   "source": [
    "print(\"python\")\n",
    "print(\"\\tpython\")"
   ]
  },
  {
   "cell_type": "code",
   "execution_count": 12,
   "metadata": {},
   "outputs": [
    {
     "output_type": "stream",
     "name": "stdout",
     "text": [
      "Languages:\nPyhton\nC\nJavaScript\n"
     ]
    }
   ],
   "source": [
    "print(\"Languages:\\nPyhton\\nC\\nJavaScript\")"
   ]
  },
  {
   "source": [
    "### Stripping Whitespace"
   ],
   "cell_type": "markdown",
   "metadata": {}
  },
  {
   "cell_type": "code",
   "execution_count": 13,
   "metadata": {},
   "outputs": [
    {
     "output_type": "stream",
     "name": "stdout",
     "text": [
      "python\n"
     ]
    }
   ],
   "source": [
    "language='python '\n",
    "print(language.rstrip())\n",
    "# rstrip() removes the whitespace from right side of a word\n",
    "print(language.lstrio())\n",
    "# lstrip() removes the whitespace from left side of a word\n",
    "print(language.strip())\n",
    "# strip() removes the whitespace from both side of a word"
   ]
  },
  {
   "cell_type": "code",
   "execution_count": 16,
   "metadata": {},
   "outputs": [
    {
     "output_type": "stream",
     "name": "stdout",
     "text": [
      " This is a try\n"
     ]
    }
   ],
   "source": [
    "text=' This is a try '\n",
    "print(text.strip())"
   ]
  },
  {
   "source": [
    "### Avoding syntax errors with strings"
   ],
   "cell_type": "markdown",
   "metadata": {}
  },
  {
   "cell_type": "code",
   "execution_count": 2,
   "metadata": {},
   "outputs": [
    {
     "output_type": "stream",
     "name": "stdout",
     "text": [
      "One of the python's strengths is its diverse community.\n"
     ]
    }
   ],
   "source": [
    "msg=\"One of the python's strengths is its diverse community.\"\n",
    "print(msg)"
   ]
  },
  {
   "cell_type": "code",
   "execution_count": 3,
   "metadata": {},
   "outputs": [
    {
     "output_type": "error",
     "ename": "SyntaxError",
     "evalue": "invalid syntax (<ipython-input-3-0c62ae49ae68>, line 1)",
     "traceback": [
      "\u001b[1;36m  File \u001b[1;32m\"<ipython-input-3-0c62ae49ae68>\"\u001b[1;36m, line \u001b[1;32m1\u001b[0m\n\u001b[1;33m    msg='One of the python's strengths is its diverse community.'\u001b[0m\n\u001b[1;37m                           ^\u001b[0m\n\u001b[1;31mSyntaxError\u001b[0m\u001b[1;31m:\u001b[0m invalid syntax\n"
     ]
    }
   ],
   "source": [
    "msg='One of the python's strengths is its diverse community.'\n",
    "print(msg)"
   ]
  },
  {
   "cell_type": "code",
   "execution_count": 4,
   "metadata": {},
   "outputs": [
    {
     "output_type": "stream",
     "name": "stdout",
     "text": [
      "One of the python's strengths is its diverse community.\n"
     ]
    }
   ],
   "source": [
    "# correct syntax\n",
    "msg='One of the python\\'s strengths is its diverse community.'\n",
    "print(msg)"
   ]
  },
  {
   "source": [
    "## Numbers"
   ],
   "cell_type": "markdown",
   "metadata": {}
  },
  {
   "source": [
    "## Integers"
   ],
   "cell_type": "markdown",
   "metadata": {}
  },
  {
   "cell_type": "code",
   "execution_count": 5,
   "metadata": {},
   "outputs": [
    {
     "output_type": "execute_result",
     "data": {
      "text/plain": [
       "5"
      ]
     },
     "metadata": {},
     "execution_count": 5
    }
   ],
   "source": [
    "2+3"
   ]
  },
  {
   "cell_type": "code",
   "execution_count": 6,
   "metadata": {},
   "outputs": [
    {
     "output_type": "execute_result",
     "data": {
      "text/plain": [
       "1"
      ]
     },
     "metadata": {},
     "execution_count": 6
    }
   ],
   "source": [
    "3-2"
   ]
  },
  {
   "cell_type": "code",
   "execution_count": 8,
   "metadata": {},
   "outputs": [
    {
     "output_type": "execute_result",
     "data": {
      "text/plain": [
       "25"
      ]
     },
     "metadata": {},
     "execution_count": 8
    }
   ],
   "source": [
    "#double * sign represent power\n",
    "3**2\n",
    "5**2\n"
   ]
  },
  {
   "source": [
    "## Floats"
   ],
   "cell_type": "markdown",
   "metadata": {}
  },
  {
   "cell_type": "code",
   "execution_count": 9,
   "metadata": {},
   "outputs": [
    {
     "output_type": "execute_result",
     "data": {
      "text/plain": [
       "0.2"
      ]
     },
     "metadata": {},
     "execution_count": 9
    }
   ],
   "source": [
    "0.1+0.1"
   ]
  },
  {
   "cell_type": "code",
   "execution_count": 10,
   "metadata": {},
   "outputs": [
    {
     "output_type": "execute_result",
     "data": {
      "text/plain": [
       "0.4"
      ]
     },
     "metadata": {},
     "execution_count": 10
    }
   ],
   "source": [
    "0.2+0.2"
   ]
  },
  {
   "source": [
    "### Avoding type errors with str() function"
   ],
   "cell_type": "markdown",
   "metadata": {}
  },
  {
   "cell_type": "code",
   "execution_count": 12,
   "metadata": {},
   "outputs": [
    {
     "output_type": "error",
     "ename": "TypeError",
     "evalue": "can only concatenate str (not \"int\") to str",
     "traceback": [
      "\u001b[1;31m---------------------------------------------------------------------------\u001b[0m",
      "\u001b[1;31mTypeError\u001b[0m                                 Traceback (most recent call last)",
      "\u001b[1;32m<ipython-input-12-3e81f858c2c5>\u001b[0m in \u001b[0;36m<module>\u001b[1;34m\u001b[0m\n\u001b[0;32m      1\u001b[0m \u001b[0mage\u001b[0m\u001b[1;33m=\u001b[0m\u001b[1;36m23\u001b[0m\u001b[1;33m\u001b[0m\u001b[1;33m\u001b[0m\u001b[0m\n\u001b[1;32m----> 2\u001b[1;33m \u001b[0mmessage\u001b[0m\u001b[1;33m=\u001b[0m\u001b[1;34m\"Happy\"\u001b[0m\u001b[1;33m+\u001b[0m\u001b[0mage\u001b[0m\u001b[1;33m+\u001b[0m\u001b[1;34m'rd Birthday!'\u001b[0m\u001b[1;33m\u001b[0m\u001b[1;33m\u001b[0m\u001b[0m\n\u001b[0m\u001b[0;32m      3\u001b[0m \u001b[0mprint\u001b[0m\u001b[1;33m(\u001b[0m\u001b[0mmessage\u001b[0m\u001b[1;33m)\u001b[0m\u001b[1;33m\u001b[0m\u001b[1;33m\u001b[0m\u001b[0m\n",
      "\u001b[1;31mTypeError\u001b[0m: can only concatenate str (not \"int\") to str"
     ]
    }
   ],
   "source": [
    "age=23\n",
    "message=\"Happy\"+age+'rd Birthday!'\n",
    "print(message)\n",
    "# here we cant use integer with string i.e. age"
   ]
  },
  {
   "cell_type": "code",
   "execution_count": 15,
   "metadata": {},
   "outputs": [
    {
     "output_type": "stream",
     "name": "stdout",
     "text": [
      "Happy 23rd birthday\n"
     ]
    }
   ],
   "source": [
    "# to overcome above problem we wrap variable age in str() function i.e.age\n",
    "message=\"Happy \"+str(age)+\"rd birthday\"\n",
    "print(message)"
   ]
  },
  {
   "source": [
    "# List\n",
    "- is a collection of items in a particular order\n",
    "- includes letters of alphabet,digits,names of people \n",
    "- indicated by square bracket,[]"
   ],
   "cell_type": "markdown",
   "metadata": {}
  },
  {
   "cell_type": "code",
   "execution_count": 18,
   "metadata": {},
   "outputs": [
    {
     "output_type": "stream",
     "name": "stdout",
     "text": [
      "['trek', 'cannondale', 'redline', 'specialized']\n"
     ]
    }
   ],
   "source": [
    "bicycles=['trek','cannondale','redline','specialized']\n",
    "print(bicycles)"
   ]
  },
  {
   "cell_type": "code",
   "execution_count": 19,
   "metadata": {},
   "outputs": [
    {
     "output_type": "stream",
     "name": "stdout",
     "text": [
      "trek\n"
     ]
    }
   ],
   "source": [
    "#accesing elements in list\n",
    "print(bicycles[0])"
   ]
  },
  {
   "cell_type": "code",
   "execution_count": 21,
   "metadata": {},
   "outputs": [
    {
     "output_type": "execute_result",
     "data": {
      "text/plain": [
       "'redline'"
      ]
     },
     "metadata": {},
     "execution_count": 21
    }
   ],
   "source": [
    "#index postion start from 0, not 1\n",
    "# index -1 return the last items from the list\n",
    "bicycles[-1]\n",
    "bicycles[-2]"
   ]
  },
  {
   "cell_type": "code",
   "execution_count": 23,
   "metadata": {},
   "outputs": [
    {
     "output_type": "stream",
     "name": "stdout",
     "text": [
      "My first bicycle was a Trek.\n"
     ]
    }
   ],
   "source": [
    "message=\"My first bicycle was a \"+bicycles[0].title()+\".\"\n",
    "print(message)"
   ]
  },
  {
   "source": [
    "### Changing, adding and removing elements"
   ],
   "cell_type": "markdown",
   "metadata": {}
  },
  {
   "cell_type": "code",
   "execution_count": 25,
   "metadata": {},
   "outputs": [
    {
     "output_type": "stream",
     "name": "stdout",
     "text": [
      "['honda', 'yamaha', 'suzuki']\n"
     ]
    }
   ],
   "source": [
    "#### modifying elements in list\n",
    "motorcycles=['honda','yamaha','suzuki']\n",
    "print(motorcycles)"
   ]
  },
  {
   "cell_type": "code",
   "execution_count": 26,
   "metadata": {},
   "outputs": [
    {
     "output_type": "stream",
     "name": "stdout",
     "text": [
      "['ducati', 'yamaha', 'suzuki']\n"
     ]
    }
   ],
   "source": [
    "motorcycles[0]='ducati'\n",
    "print(motorcycles)"
   ]
  },
  {
   "cell_type": "code",
   "execution_count": 28,
   "metadata": {},
   "outputs": [
    {
     "output_type": "stream",
     "name": "stdout",
     "text": [
      "['honda', 'yamaha', 'suzuki', 'ducati']\n"
     ]
    }
   ],
   "source": [
    "# adding elements to a list\n",
    "motorcycles=['honda','yamaha','suzuki']\n",
    "motorcycles.append('ducati')\n",
    "print(motorcycles)\n",
    "\n",
    "#append is used to add the element to the end of the list"
   ]
  },
  {
   "cell_type": "code",
   "execution_count": 31,
   "metadata": {},
   "outputs": [
    {
     "output_type": "stream",
     "name": "stdout",
     "text": [
      "['ducati', 'honda', 'yamaha', 'suzuki']\n"
     ]
    }
   ],
   "source": [
    "# inserting elements to a list\n",
    "motorcycles=['honda','yamaha','suzuki']\n",
    "motorcycles.insert(0,'ducati')\n",
    "print(motorcycles)\n",
    "\n",
    "# insert(index,object) opens the space in specified index and stores object at that location.This operation shifts every other value in the list one position to the right"
   ]
  },
  {
   "cell_type": "code",
   "execution_count": 33,
   "metadata": {},
   "outputs": [
    {
     "output_type": "stream",
     "name": "stdout",
     "text": [
      "['honda', 'yamaha', 'suzuki']\n['yamaha', 'suzuki']\n"
     ]
    }
   ],
   "source": [
    "# removing the elements from the list\n",
    "motorcycles=['honda','yamaha','suzuki']\n",
    "print(motorcycles)\n",
    "\n",
    "del motorcycles[0]\n",
    "print(motorcycles)\n",
    "# the above code delete the content of specified index"
   ]
  },
  {
   "cell_type": "code",
   "execution_count": 35,
   "metadata": {},
   "outputs": [
    {
     "output_type": "stream",
     "name": "stdout",
     "text": [
      "['honda', 'yamaha', 'suzuki']\n['honda', 'yamaha']\nsuzuki\n"
     ]
    }
   ],
   "source": [
    "# we can also use pop() method to remove an item fron the list\n",
    "motorcycles=['honda','yamaha','suzuki']\n",
    "print(motorcycles)\n",
    "\n",
    "popped_motorcycles=motorcycles.pop()\n",
    "print(motorcycles)\n",
    "print(popped_motorcycles)\n",
    "# pop() removes the last item from the list"
   ]
  },
  {
   "cell_type": "code",
   "execution_count": 37,
   "metadata": {},
   "outputs": [
    {
     "output_type": "stream",
     "name": "stdout",
     "text": [
      "The last motorcyle I was a Suzuki.\n"
     ]
    }
   ],
   "source": [
    "motorcycles=['honda','yamaha','suzuki']\n",
    "last_owned = motorcycles.pop()\n",
    "print(\"The last motorcyle I was a \"+ last_owned.title()+\".\")"
   ]
  },
  {
   "cell_type": "code",
   "execution_count": 39,
   "metadata": {},
   "outputs": [
    {
     "output_type": "stream",
     "name": "stdout",
     "text": [
      "The first motorcycle I onwed was a Honda\n"
     ]
    }
   ],
   "source": [
    "#popping items from any position in a  list\n",
    "motorcycles=['honda','yamaha','suzuki']\n",
    "first_owned=motorcycles.pop(0)\n",
    "print('The first motorcycle I onwed was a '+ first_owned.title())\n",
    "\n",
    "#pop(index) return an item from the specified index"
   ]
  },
  {
   "cell_type": "code",
   "execution_count": 40,
   "metadata": {},
   "outputs": [
    {
     "output_type": "stream",
     "name": "stdout",
     "text": [
      "['honda', 'yamaha', 'suzuki']\n['yamaha', 'suzuki']\n"
     ]
    }
   ],
   "source": [
    "# removing an item by value\n",
    "motorcycles=['honda','yamaha','suzuki']\n",
    "print(motorcycles)\n",
    "\n",
    "motorcycles.remove('honda')\n",
    "print(motorcycles)\n",
    "\n",
    "#remove(object) remove the mentioned object from the list"
   ]
  },
  {
   "source": [
    "### Organizing a list"
   ],
   "cell_type": "markdown",
   "metadata": {}
  },
  {
   "cell_type": "code",
   "execution_count": 41,
   "metadata": {},
   "outputs": [
    {
     "output_type": "stream",
     "name": "stdout",
     "text": [
      "['Audi', 'BMW', 'Hyundai', 'Toyota']\n"
     ]
    }
   ],
   "source": [
    "#sorting a list permanently with the sort() method\n",
    "cars=['BMW','Audi','Toyota','Hyundai']\n",
    "cars.sort()\n",
    "print(cars)\n",
    "#sort() method sort the conent of list in alphabetical order"
   ]
  },
  {
   "cell_type": "code",
   "execution_count": 43,
   "metadata": {},
   "outputs": [
    {
     "output_type": "stream",
     "name": "stdout",
     "text": [
      "['Toyota', 'Hyundai', 'BMW', 'Audi']\n"
     ]
    }
   ],
   "source": [
    "cars.sort(reverse=True)\n",
    "print(cars)\n",
    "#sort(reverse=True) sort the contents of list in reverse alphabetical order"
   ]
  },
  {
   "cell_type": "code",
   "execution_count": 44,
   "metadata": {},
   "outputs": [
    {
     "output_type": "stream",
     "name": "stdout",
     "text": [
      "Sorted List:\n['Audi', 'BMW', 'Hyundai', 'Toyota']\nOriginal List:\n['BMW', 'Audi', 'Toyota', 'Hyundai']\n"
     ]
    }
   ],
   "source": [
    "# sorting a list temporarily with sorted() fucntion\n",
    "cars=['BMW','Audi','Toyota','Hyundai']\n",
    "print(\"Sorted List:\")\n",
    "print(sorted(cars))\n",
    "print(\"Original List:\")\n",
    "print(cars)\n"
   ]
  },
  {
   "cell_type": "code",
   "execution_count": 46,
   "metadata": {},
   "outputs": [
    {
     "output_type": "stream",
     "name": "stdout",
     "text": [
      "['BMW', 'Audi', 'Toyota', 'Hyundai']\n['Hyundai', 'Toyota', 'Audi', 'BMW']\n"
     ]
    }
   ],
   "source": [
    "#printing a list in reverse order\n",
    "cars=['BMW','Audi','Toyota','Hyundai']\n",
    "print(cars)\n",
    "\n",
    "cars.reverse()\n",
    "print(cars)\n",
    "#reverse() doesn't sort the in reverse alphabetical order , it simpy reverses the order of the list\n"
   ]
  },
  {
   "cell_type": "code",
   "execution_count": 47,
   "metadata": {},
   "outputs": [
    {
     "output_type": "execute_result",
     "data": {
      "text/plain": [
       "4"
      ]
     },
     "metadata": {},
     "execution_count": 47
    }
   ],
   "source": [
    "# finding the length of the list\n",
    "cars=['BMW','Audi','Toyota','Hyundai']\n",
    "len(cars)"
   ]
  },
  {
   "source": [
    "## working with lists"
   ],
   "cell_type": "markdown",
   "metadata": {}
  },
  {
   "source": [
    "### looping through an entire list"
   ],
   "cell_type": "markdown",
   "metadata": {}
  },
  {
   "cell_type": "code",
   "execution_count": 2,
   "metadata": {},
   "outputs": [
    {
     "output_type": "stream",
     "name": "stdout",
     "text": [
      "alice\ndavid\ncorolina\n"
     ]
    }
   ],
   "source": [
    "magicians =['alice','david','corolina']\n",
    "for magician in magicians:\n",
    "    print(magician)"
   ]
  },
  {
   "source": [
    "#### doing more work within a loop"
   ],
   "cell_type": "markdown",
   "metadata": {}
  },
  {
   "cell_type": "code",
   "execution_count": 4,
   "metadata": {},
   "outputs": [
    {
     "output_type": "stream",
     "name": "stdout",
     "text": [
      "Alice, that was a great trick!\nDavid, that was a great trick!\nCorolina, that was a great trick!\n"
     ]
    }
   ],
   "source": [
    "magicians =['alice','david','corolina']\n",
    "for magician in magicians:\n",
    "    print(magician.title()+\", that was a great trick!\")"
   ]
  },
  {
   "cell_type": "code",
   "execution_count": 6,
   "metadata": {},
   "outputs": [
    {
     "output_type": "stream",
     "name": "stdout",
     "text": [
      "Alice, that was a great trick!\nDavid, that was a great trick!\nCorolina, that was a great trick!\n\nThank you, everyone. That was a great magic show!\n"
     ]
    }
   ],
   "source": [
    "magicians =['alice','david','corolina']\n",
    "for magician in magicians:\n",
    "    print(magician.title()+\", that was a great trick!\")\n",
    "print(\"\\nThank you, everyone. That was a great magic show!\")"
   ]
  },
  {
   "source": [
    "## making numerical lists"
   ],
   "cell_type": "markdown",
   "metadata": {}
  },
  {
   "source": [
    "### Using the range() function\n",
    "- range() funciton generate a series of numbers"
   ],
   "cell_type": "markdown",
   "metadata": {}
  },
  {
   "cell_type": "code",
   "execution_count": 8,
   "metadata": {},
   "outputs": [
    {
     "output_type": "stream",
     "name": "stdout",
     "text": [
      "1\n2\n3\n4\n"
     ]
    }
   ],
   "source": [
    "for value in range(1,5):\n",
    "    print(value)"
   ]
  },
  {
   "cell_type": "code",
   "execution_count": 9,
   "metadata": {},
   "outputs": [
    {
     "output_type": "stream",
     "name": "stdout",
     "text": [
      "[1, 2, 3, 4]\n"
     ]
    }
   ],
   "source": [
    "# using range() to make a list of numbers\n",
    "numbers=list(range(1,5))\n",
    "print(numbers)"
   ]
  },
  {
   "cell_type": "code",
   "execution_count": 10,
   "metadata": {},
   "outputs": [
    {
     "output_type": "stream",
     "name": "stdout",
     "text": [
      "[1, 3, 5, 7, 9]\n"
     ]
    }
   ],
   "source": [
    "even_numbers=list(range(1,11,2))\n",
    "print(even_numbers)"
   ]
  },
  {
   "cell_type": "code",
   "execution_count": 11,
   "metadata": {},
   "outputs": [
    {
     "output_type": "stream",
     "name": "stdout",
     "text": [
      "[1, 4, 9, 16, 25, 36, 49, 64, 81, 100]\n"
     ]
    }
   ],
   "source": [
    "squares=[]\n",
    "for value in range(1,11):\n",
    "    square=value**2\n",
    "    squares.append(square)\n",
    "print(squares)"
   ]
  },
  {
   "source": [
    "### Simple statistics with a ist of numbers\n"
   ],
   "cell_type": "markdown",
   "metadata": {}
  },
  {
   "cell_type": "code",
   "execution_count": 15,
   "metadata": {},
   "outputs": [
    {
     "output_type": "execute_result",
     "data": {
      "text/plain": [
       "45"
      ]
     },
     "metadata": {},
     "execution_count": 15
    }
   ],
   "source": [
    "digits=[1,2,3,4,5,6,7,8,9,0]\n",
    "min(digits)\n",
    "max(digits)\n",
    "sum(digits)"
   ]
  },
  {
   "cell_type": "code",
   "execution_count": 18,
   "metadata": {},
   "outputs": [
    {
     "output_type": "stream",
     "name": "stdout",
     "text": [
      "[1, 4, 9, 16, 25, 36, 49, 64, 81, 100]\n"
     ]
    }
   ],
   "source": [
    "squares=[]\n",
    "for value in range(1,11):\n",
    "    square=value**2\n",
    "    squares.append(square)\n",
    "print(squares)"
   ]
  },
  {
   "cell_type": "code",
   "execution_count": 19,
   "metadata": {},
   "outputs": [
    {
     "output_type": "stream",
     "name": "stdout",
     "text": [
      "[1, 4, 9, 16, 25, 36, 49, 64, 81, 100]\n"
     ]
    }
   ],
   "source": [
    "# the above code can also be written as\n",
    "squares=[value**2 for value in range(1,11)]\n",
    "print(squares)"
   ]
  },
  {
   "source": [
    "### working with part of list"
   ],
   "cell_type": "markdown",
   "metadata": {}
  },
  {
   "source": [
    "#### slicing a list"
   ],
   "cell_type": "markdown",
   "metadata": {}
  },
  {
   "cell_type": "code",
   "execution_count": 7,
   "metadata": {},
   "outputs": [
    {
     "output_type": "stream",
     "name": "stdout",
     "text": [
      "['charles', 'martina', 'micheal']\n['martina', 'micheal', 'florence']\n['charles', 'martina', 'micheal', 'florence']\n['micheal', 'florence', 'eli']\n['micheal', 'florence', 'eli']\n"
     ]
    }
   ],
   "source": [
    "players=['charles','martina','micheal','florence','eli']\n",
    "print(players[0:3]) #print players from 0 to 3 index\n",
    "print(players[1:4]) #print players from index 1 to 4\n",
    "print(players[:4]) # print players from index 1st to 4th index\n",
    "print(players[2:]) # print the name of players from 2nd index to last\n",
    "print(players[-3:]) # print the last 3 players name"
   ]
  },
  {
   "source": [
    "### looping through a slice"
   ],
   "cell_type": "markdown",
   "metadata": {}
  },
  {
   "cell_type": "code",
   "execution_count": 10,
   "metadata": {},
   "outputs": [
    {
     "output_type": "stream",
     "name": "stdout",
     "text": [
      "here are the first three players on my team:\nCharles\nMartina\nMicheal\n"
     ]
    }
   ],
   "source": [
    "players=['charles','martina','micheal','florence','eli']\n",
    "print('here are the first three players on my team:')\n",
    "for player in players[0:3]:\n",
    "    print(player.title())"
   ]
  },
  {
   "source": [
    "### copying a list"
   ],
   "cell_type": "markdown",
   "metadata": {}
  },
  {
   "cell_type": "code",
   "execution_count": 13,
   "metadata": {},
   "outputs": [
    {
     "output_type": "stream",
     "name": "stdout",
     "text": [
      "My favorite foods are:\n['pizza', 'falafel', 'carrot', 'carrot cake']\nmy friend favorite foods are:\n['pizza', 'falafel', 'carrot', 'carrot cake']\n['pizza', 'falafel', 'carrot', 'carrot cake', 'ice cream']\n"
     ]
    }
   ],
   "source": [
    "my_foods=['pizza','falafel','carrot','carrot cake']\n",
    "friends_foods=my_foods[:] # : symbol denotes slice that starts from first item and end with last item\n",
    "print(\"My favorite foods are:\")\n",
    "print(my_foods)\n",
    "print(\"my friend favorite foods are:\")\n",
    "print(friends_foods)\n",
    "friends_foods.append('ice cream')\n",
    "print(friends_foods)"
   ]
  },
  {
   "cell_type": "code",
   "execution_count": 15,
   "metadata": {},
   "outputs": [
    {
     "output_type": "stream",
     "name": "stdout",
     "text": [
      "My favorite foods are:\n['pizza', 'falafel', 'carrot', 'carrot cake', 'cannoli', 'ice cream']\nmy friend favorite foods are:\n['pizza', 'falafel', 'carrot', 'carrot cake', 'cannoli', 'ice cream']\n"
     ]
    }
   ],
   "source": [
    "my_foods=['pizza','falafel','carrot','carrot cake']\n",
    "friends_foods=my_foods \n",
    "my_foods.append('cannoli')\n",
    "friends_foods.append('ice cream')\n",
    "print(\"My favorite foods are:\")\n",
    "print(my_foods)\n",
    "\n",
    "print(\"my friend favorite foods are:\")\n",
    "print(friends_foods)\n",
    "# here we try to copy without slicing so cannoli and icecream appears both in my_foods and friends_foods\n",
    "# Here, instead of copying we set friends_foods = my_foods\n"
   ]
  },
  {
   "source": [
    "## Tuples\n",
    "- Tuples looks like a list but we can use parenthesis instead of square bracket\n",
    "- once we define a tuple ,we can access individual elements by usng each items index, like a list"
   ],
   "cell_type": "markdown",
   "metadata": {}
  },
  {
   "cell_type": "code",
   "execution_count": 17,
   "metadata": {},
   "outputs": [
    {
     "output_type": "stream",
     "name": "stdout",
     "text": [
      "200\n50\n"
     ]
    }
   ],
   "source": [
    "dimension=(200,50)\n",
    "print(dimension[0])\n",
    "print(dimension[1])"
   ]
  },
  {
   "cell_type": "code",
   "execution_count": 18,
   "metadata": {},
   "outputs": [
    {
     "output_type": "error",
     "ename": "TypeError",
     "evalue": "'tuple' object does not support item assignment",
     "traceback": [
      "\u001b[1;31m---------------------------------------------------------------------------\u001b[0m",
      "\u001b[1;31mTypeError\u001b[0m                                 Traceback (most recent call last)",
      "\u001b[1;32m<ipython-input-18-9e1a93e7a621>\u001b[0m in \u001b[0;36m<module>\u001b[1;34m\u001b[0m\n\u001b[0;32m      1\u001b[0m \u001b[1;31m## chaning value in tuples\u001b[0m\u001b[1;33m\u001b[0m\u001b[1;33m\u001b[0m\u001b[1;33m\u001b[0m\u001b[0m\n\u001b[1;32m----> 2\u001b[1;33m \u001b[0mdimension\u001b[0m\u001b[1;33m[\u001b[0m\u001b[1;36m0\u001b[0m\u001b[1;33m]\u001b[0m\u001b[1;33m=\u001b[0m\u001b[1;36m250\u001b[0m\u001b[1;33m\u001b[0m\u001b[1;33m\u001b[0m\u001b[0m\n\u001b[0m",
      "\u001b[1;31mTypeError\u001b[0m: 'tuple' object does not support item assignment"
     ]
    }
   ],
   "source": [
    "## assigning value in tuples\n",
    "dimension[0]=250\n",
    "#we cannot assign value in tuples"
   ]
  },
  {
   "cell_type": "code",
   "execution_count": 20,
   "metadata": {},
   "outputs": [
    {
     "output_type": "stream",
     "name": "stdout",
     "text": [
      "200\n50\n"
     ]
    }
   ],
   "source": [
    "### looping through all values in tuples\n",
    "dimensions=(200,50)\n",
    "for dimension in dimensions:\n",
    "    print(dimension)"
   ]
  },
  {
   "cell_type": "code",
   "execution_count": 22,
   "metadata": {},
   "outputs": [
    {
     "output_type": "stream",
     "name": "stdout",
     "text": [
      "dimension are:\n250\n50\nmodified dimensions:\n450\n250\n"
     ]
    }
   ],
   "source": [
    "### writing over tuples\n",
    "dimensions=(250,50)\n",
    "print('dimension are:')\n",
    "for dimension in dimensions:\n",
    "    print(dimension)\n",
    "dimensions=(450,250)\n",
    "print('modified dimensions:')\n",
    "for dimension in dimensions:\n",
    "    print(dimension)"
   ]
  },
  {
   "source": [
    "## If Else Statement"
   ],
   "cell_type": "markdown",
   "metadata": {}
  },
  {
   "cell_type": "code",
   "execution_count": 1,
   "metadata": {},
   "outputs": [
    {
     "output_type": "stream",
     "name": "stdout",
     "text": [
      "Audi\nBMW\nSubaru\nToyota\n"
     ]
    }
   ],
   "source": [
    "# simple example\n",
    "cars=['audi','bmw','subaru','toyota']\n",
    "\n",
    "for car in cars:\n",
    "    if car == 'bmw':\n",
    "        print(car.upper())\n",
    "    else:\n",
    "        print(car.title())"
   ]
  },
  {
   "cell_type": "code",
   "execution_count": 2,
   "metadata": {},
   "outputs": [
    {
     "output_type": "stream",
     "name": "stdout",
     "text": [
      "That is not the correct answer. Please try again!\n"
     ]
    }
   ],
   "source": [
    "answer=17\n",
    "if answer!=42:\n",
    "    print(\"That is not the correct answer. Please try again!\")"
   ]
  },
  {
   "cell_type": "code",
   "execution_count": 6,
   "metadata": {},
   "outputs": [
    {
     "output_type": "execute_result",
     "data": {
      "text/plain": [
       "False"
      ]
     },
     "metadata": {},
     "execution_count": 6
    }
   ],
   "source": [
    "#Checking multiple conditions\n",
    "age_0=22\n",
    "age_1=18\n",
    "age_0>=21 and age_1>=21"
   ]
  },
  {
   "cell_type": "code",
   "execution_count": 10,
   "metadata": {},
   "outputs": [
    {
     "output_type": "execute_result",
     "data": {
      "text/plain": [
       "False"
      ]
     },
     "metadata": {},
     "execution_count": 10
    }
   ],
   "source": [
    "#checking whether a value is in a list\n",
    "requested_toppings=['mushrooms','onions','pineapple']\n",
    "'mushrooms' in requested_toppings\n",
    "'pepperoni' in requested_toppings"
   ]
  },
  {
   "cell_type": "code",
   "execution_count": 14,
   "metadata": {},
   "outputs": [
    {
     "output_type": "stream",
     "name": "stdout",
     "text": [
      "Marie you can post a response if u wish\n"
     ]
    }
   ],
   "source": [
    "#checking whether a value is not in a list\n",
    "banned_users=['andrew','carolina','david']\n",
    "user='marie'\n",
    "\n",
    "if user not in banned_users:\n",
    "    print(user.title()+' you can post a response if u wish')"
   ]
  },
  {
   "source": [
    "## if statements"
   ],
   "cell_type": "markdown",
   "metadata": {}
  },
  {
   "source": [
    "### simple if statement\n",
    "\n",
    "if conditional_test:\n",
    "    do something"
   ],
   "cell_type": "markdown",
   "metadata": {}
  },
  {
   "cell_type": "code",
   "execution_count": 16,
   "metadata": {},
   "outputs": [
    {
     "output_type": "stream",
     "name": "stdout",
     "text": [
      "you are old enough to vote!\n"
     ]
    }
   ],
   "source": [
    "age=19\n",
    "if age>=18:\n",
    "    print('you are old enough to vote!')"
   ]
  },
  {
   "source": [
    "\n",
    "### if else statement"
   ],
   "cell_type": "markdown",
   "metadata": {}
  },
  {
   "cell_type": "code",
   "execution_count": 17,
   "metadata": {},
   "outputs": [
    {
     "output_type": "stream",
     "name": "stdout",
     "text": [
      "sorry, you are too young to vote.\n"
     ]
    }
   ],
   "source": [
    "age=17\n",
    "if age>=18:\n",
    "    print('you are old enough to vote!')\n",
    "else:\n",
    "    print('sorry, you are too young to vote.')"
   ]
  },
  {
   "source": [
    "### if-elif-else chain"
   ],
   "cell_type": "markdown",
   "metadata": {}
  },
  {
   "cell_type": "code",
   "execution_count": 19,
   "metadata": {},
   "outputs": [
    {
     "output_type": "stream",
     "name": "stdout",
     "text": [
      "your admission cost is $5.\n"
     ]
    }
   ],
   "source": [
    "age=12\n",
    "if age<4:\n",
    "    print('your admission cost is $0.')\n",
    "elif age<18:\n",
    "    print('your admission cost is $5.')\n",
    "else:\n",
    "    print('your admission cost is $10.')"
   ]
  },
  {
   "cell_type": "code",
   "execution_count": 21,
   "metadata": {},
   "outputs": [
    {
     "output_type": "stream",
     "name": "stdout",
     "text": [
      "Your admission cost is $5.\n"
     ]
    }
   ],
   "source": [
    "## multiple elif blocks\n",
    "age =12\n",
    "if age<4:\n",
    "    price=0\n",
    "elif age<18:\n",
    "    price=5\n",
    "elif age<65:\n",
    "    price=10\n",
    "else:\n",
    "    price=5\n",
    "\n",
    "print('Your admission cost is $'+str(price)+'.')"
   ]
  },
  {
   "cell_type": "code",
   "execution_count": 23,
   "metadata": {},
   "outputs": [
    {
     "output_type": "stream",
     "name": "stdout",
     "text": [
      "your admission cost is 5.\n"
     ]
    }
   ],
   "source": [
    "# omitting the else block\n",
    "age=12\n",
    "\n",
    "if age<4:\n",
    "    price=0\n",
    "elif age<18:\n",
    "    price=5\n",
    "elif price<65:\n",
    "    price=10\n",
    "elif price>=65:\n",
    "    price=5\n",
    "\n",
    "print('your admission cost is '+str(price)+'.')\n",
    "\n",
    "# python doesnt require else block at the end of an if-elif chain"
   ]
  },
  {
   "cell_type": "code",
   "execution_count": 24,
   "metadata": {},
   "outputs": [
    {
     "output_type": "stream",
     "name": "stdout",
     "text": [
      "Adding mushrooms.\nAdding extra cheese.\n\nFinished making your pizza!\n"
     ]
    }
   ],
   "source": [
    "# testing multiple conditions\n",
    "\n",
    "requested_toppings=['mushrooms','extra cheese']\n",
    "\n",
    "if 'mushrooms' in requested_toppings:\n",
    "    print(\"Adding mushrooms.\")\n",
    "if 'pepperoni' in requested_toppings:\n",
    "    print('Adding pepporoni.')\n",
    "if 'extra cheese' in requested_toppings:\n",
    "    print('Adding extra cheese.')\n",
    "\n",
    "print('\\nFinished making your pizza!')"
   ]
  },
  {
   "source": [
    "## Using if statements with lists"
   ],
   "cell_type": "markdown",
   "metadata": {}
  },
  {
   "cell_type": "code",
   "execution_count": 27,
   "metadata": {},
   "outputs": [
    {
     "output_type": "stream",
     "name": "stdout",
     "text": [
      "Adding mushrooms.\nAdding green peppers.\nAdding extra cheese.\n\nFinished making your pizza!\n"
     ]
    }
   ],
   "source": [
    "requested_toppings=['mushrooms','green peppers','extra cheese']\n",
    "\n",
    "for requested_toppings in requested_toppings:\n",
    "    print('Adding '+ requested_toppings+\".\")\n",
    "print('\\nFinished making your pizza!')"
   ]
  },
  {
   "cell_type": "code",
   "execution_count": 29,
   "metadata": {},
   "outputs": [
    {
     "output_type": "stream",
     "name": "stdout",
     "text": [
      "Adding mushrooms.\nSorry we are out of green peppers right now\nAdding extra cheese.\n\nFinished making your pizza!\n"
     ]
    }
   ],
   "source": [
    "requested_toppings=['mushrooms','green peppers','extra cheese']\n",
    "\n",
    "for requested_toppings in requested_toppings:\n",
    "    if requested_toppings=='green peppers':\n",
    "        print(\"Sorry we are out of green peppers right now\")\n",
    "    else:\n",
    "        print('Adding '+ requested_toppings+\".\")\n",
    "print('\\nFinished making your pizza!')"
   ]
  },
  {
   "cell_type": "code",
   "execution_count": 32,
   "metadata": {},
   "outputs": [
    {
     "output_type": "stream",
     "name": "stdout",
     "text": [
      "Are you sure want a plain pizza?\n"
     ]
    }
   ],
   "source": [
    "# checking that a list is not empty\n",
    "\n",
    "requested_toppings=[]\n",
    "\n",
    "if requested_toppings:\n",
    "    for requested_topping in requested_toppings:\n",
    "        print('Adding '+ requested_topping+'.')\n",
    "else:\n",
    "    print('Are you sure want a plain pizza?')\n",
    "# here if statement check if there is at least one item in list.if true then it process for loops else move to else condition\n"
   ]
  },
  {
   "cell_type": "code",
   "execution_count": 37,
   "metadata": {},
   "outputs": [
    {
     "output_type": "stream",
     "name": "stdout",
     "text": [
      "Adding mushrooms.\nSorry we dont have french fries.\nAdding extra cheese.\n\nFinished making your pizza!\n"
     ]
    }
   ],
   "source": [
    "# using multiple lists\n",
    "available_toppings=['mushrooms','olives','green peppers','pepperoni','pineapple','extra cheese']\n",
    "\n",
    "requested_toppings=['mushrooms','french fries','extra cheese']\n",
    "\n",
    "for requested_topping in requested_toppings:\n",
    "    if requested_topping in available_toppings:\n",
    "        print('Adding '+ requested_topping+'.')\n",
    "    else:\n",
    "        print('Sorry we dont have '+requested_topping+'.')\n",
    "\n",
    "print(\"\\nFinished making your pizza!\")"
   ]
  }
 ]
}