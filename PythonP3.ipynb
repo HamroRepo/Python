{
 "metadata": {
  "language_info": {
   "codemirror_mode": {
    "name": "ipython",
    "version": 3
   },
   "file_extension": ".py",
   "mimetype": "text/x-python",
   "name": "python",
   "nbconvert_exporter": "python",
   "pygments_lexer": "ipython3",
   "version": "3.8.2"
  },
  "orig_nbformat": 2,
  "kernelspec": {
   "name": "python382jvsc74a57bd001e4a4ef43d7435a6845fd7336130797196ba9e9ad58f05806271349b7c58ab1",
   "display_name": "Python 3.8.2 64-bit"
  },
  "metadata": {
   "interpreter": {
    "hash": "01e4a4ef43d7435a6845fd7336130797196ba9e9ad58f05806271349b7c58ab1"
   }
  }
 },
 "nbformat": 4,
 "nbformat_minor": 2,
 "cells": [
  {
   "source": [
    "## Classes\n",
    "- Chapter 9\n"
   ],
   "cell_type": "markdown",
   "metadata": {}
  },
  {
   "source": [
    "- In object oriented programing we write class to represent real world things and situations\n",
    "- making an object from class is called instantiation\n"
   ],
   "cell_type": "markdown",
   "metadata": {}
  },
  {
   "cell_type": "code",
   "execution_count": 2,
   "metadata": {},
   "outputs": [],
   "source": [
    "# Creating and Using a class\n",
    "\n",
    "# Creating the dog class\n",
    "\n",
    "class Dog(): # defined a class called dog # Capitalized name refer to classes on python\n",
    "    \"\"\" A simple attempt to model a dog.\"\"\"\n",
    "\n",
    "    def __init__(self, name, age): # function that is part of a class\n",
    "        \"\"\"Initialize name and age attributes.\"\"\"\n",
    "\n",
    "        self.name=name\n",
    "        self.age=age\n",
    "\n",
    "    def sit(self):\n",
    "        \"\"\"Simulate a dog sitting in response to a command.\"\"\"\n",
    "        print(self.name.title()+\" is now sitting.\")\n",
    "\n",
    "    def roll_over(self):\n",
    "        \"\"\"Simulate rolling over in response to a command.\"\"\"\n",
    "        print(self.name.title()+\" rolled over!\")\n",
    "    \n",
    "    # __init__() is a special method which pythons runs automatically whenever we create a new instance \n",
    "    #__init__() have 3 parameter: self,name and age\n",
    "    #self is always required and must come before any other parameter\n",
    "    # __init__() method will automatically pass the self argument. Every method call associated with a class automatically passes self, which is a reference to the instance itself; it gives the individual instance access to the attributes and methods in the class. \n",
    "    # two variables self.name and self.age .Since it has prefix as self so it will be available to every method inside a class\n",
    "    "
   ]
  },
  {
   "cell_type": "code",
   "execution_count": 4,
   "metadata": {},
   "outputs": [
    {
     "output_type": "stream",
     "name": "stdout",
     "text": [
      "My dog's name is Willie.\nMy dog is 6 years old.\n"
     ]
    }
   ],
   "source": [
    "# making an Instance from a class\n",
    "\n",
    "my_dog =Dog('willie',6)\n",
    "print(\"My dog's name is \"+my_dog.name.title()+'.')\n",
    "print(\"My dog is \"+str(my_dog.age)+' years old.')\n",
    "\n",
    "# here 1st line automatically call __init__ method \n",
    "# __init__() method create an instance and sets the name and age attributes using the values we provide\n",
    "#__init__() method has no explicit return ,but Python automatically returns an instance representing this dog. \n",
    "# we store the instance in my_dog"
   ]
  },
  {
   "cell_type": "code",
   "execution_count": 5,
   "metadata": {},
   "outputs": [
    {
     "output_type": "stream",
     "name": "stdout",
     "text": [
      "Wille is now sitting.\nWille rolled over!\n"
     ]
    }
   ],
   "source": [
    "# calling methods\n",
    "\n",
    "my_dog=Dog(\"wille\",6)\n",
    "my_dog.sit()\n",
    "my_dog.roll_over()\n",
    "# here we are calling a method using the name of instance followed by method we want to call seperated by dot"
   ]
  },
  {
   "cell_type": "code",
   "execution_count": 9,
   "metadata": {},
   "outputs": [
    {
     "output_type": "stream",
     "name": "stdout",
     "text": [
      "My dog's name is Willie.\nMy dog is 6 years old.\nWillie is now sitting.\nWillie rolled over!\n\nYour dog's name is Lucy.\nYour dog is 3 years old.\nLucy is now sitting.\nLucy rolled over!\n"
     ]
    }
   ],
   "source": [
    "# creating multiple instances\n",
    "my_dog=Dog(\"willie\",6)\n",
    "your_dog=Dog('lucy',3)\n",
    "\n",
    "print(\"My dog's name is \"+my_dog.name.title()+'.')\n",
    "print(\"My dog is \"+str(my_dog.age)+' years old.')\n",
    "my_dog.sit()\n",
    "my_dog.roll_over()\n",
    "\n",
    "print(\"\\nYour dog's name is \"+your_dog.name.title()+'.')\n",
    "print(\"Your dog is \"+str(your_dog.age)+' years old.')\n",
    "your_dog.sit()\n",
    "your_dog.roll_over()"
   ]
  },
  {
   "cell_type": "code",
   "execution_count": 12,
   "metadata": {},
   "outputs": [
    {
     "output_type": "stream",
     "name": "stdout",
     "text": [
      "2021 Audi A4\n"
     ]
    }
   ],
   "source": [
    "# WOrking with Classes and Instances\n",
    "\n",
    "# the car class\n",
    "\n",
    "class Car():\n",
    "    \"\"\"A simple attempt to represent a car.\"\"\"\n",
    "\n",
    "    def __init__(self,make,model,year):\n",
    "        \"\"\"Initalize attributes to describe a car.\"\"\"\n",
    "        self.make=make\n",
    "        self.model=model\n",
    "        self.year=year\n",
    "    \n",
    "    def get_descriptive_name(self):\n",
    "        \"\"\"Return a meatly formatted descriptive name.\"\"\"\n",
    "        long_name=str(self.year)+\" \"+self.make+\" \"+self.model\n",
    "        return long_name.title()\n",
    "\n",
    "my_new_car=Car('audi','a4',2021)\n",
    "print(my_new_car.get_descriptive_name())"
   ]
  },
  {
   "cell_type": "code",
   "execution_count": 15,
   "metadata": {},
   "outputs": [
    {
     "output_type": "stream",
     "name": "stdout",
     "text": [
      "2021 Audi A4\nThis car has 0 miles on it.\n"
     ]
    }
   ],
   "source": [
    "# Setting a default value for an Attribute\n",
    "class Car():\n",
    "    \"\"\"A simple attempt to represent a car.\"\"\"\n",
    "\n",
    "    def __init__(self,make,model,year):\n",
    "        \"\"\"Initalize attributes to describe a car.\"\"\"\n",
    "        self.make=make\n",
    "        self.model=model\n",
    "        self.year=year\n",
    "        self.odometer_reading=0\n",
    "    \n",
    "    def get_descriptive_name(self):\n",
    "        \"\"\"Return a meatly formatted descriptive name.\"\"\"\n",
    "        long_name=str(self.year)+\" \"+self.make+\" \"+self.model\n",
    "        return long_name.title()\n",
    "    \n",
    "    def read_odometer(self):\n",
    "        \"\"\"Print a statement showing the car's mileage.\"\"\"\n",
    "        print(\"This car has \"+str(self.odometer_reading)+' miles on it.')\n",
    "    \n",
    "\n",
    "my_new_car=Car('audi','a4',2021)\n",
    "print(my_new_car.get_descriptive_name())\n",
    "my_new_car.read_odometer()\n",
    "\n",
    "# here we create new variable self.odometer_reading and new method read_odometer where we passed self"
   ]
  },
  {
   "cell_type": "code",
   "execution_count": 16,
   "metadata": {},
   "outputs": [
    {
     "output_type": "stream",
     "name": "stdout",
     "text": [
      "2021 Audi A4\nThis car has 23 miles on it.\n"
     ]
    }
   ],
   "source": [
    "# modifying attributes values\n",
    "\n",
    "#modifying an attribute's value directly\n",
    "\n",
    "class Car():\n",
    "    \"\"\"A simple attempt to represent a car.\"\"\"\n",
    "\n",
    "    def __init__(self,make,model,year):\n",
    "        \"\"\"Initalize attributes to describe a car.\"\"\"\n",
    "        self.make=make\n",
    "        self.model=model\n",
    "        self.year=year\n",
    "        self.odometer_reading=0\n",
    "    \n",
    "    def get_descriptive_name(self):\n",
    "        \"\"\"Return a meatly formatted descriptive name.\"\"\"\n",
    "        long_name=str(self.year)+\" \"+self.make+\" \"+self.model\n",
    "        return long_name.title()\n",
    "    \n",
    "    def read_odometer(self):\n",
    "        \"\"\"Print a statement showing the car's mileage.\"\"\"\n",
    "        print(\"This car has \"+str(self.odometer_reading)+' miles on it.')\n",
    "    \n",
    "\n",
    "my_new_car=Car('audi','a4',2021)\n",
    "print(my_new_car.get_descriptive_name())\n",
    "my_new_car.odometer_reading=23\n",
    "my_new_car.read_odometer()"
   ]
  },
  {
   "cell_type": "code",
   "execution_count": 18,
   "metadata": {},
   "outputs": [
    {
     "output_type": "stream",
     "name": "stdout",
     "text": [
      "2021 Audi A4\nThis car has 23 miles on it.\n"
     ]
    }
   ],
   "source": [
    "# modifying an attribute's through a method.\n",
    "class Car():\n",
    "    \"\"\"A simple attempt to represent a car.\"\"\"\n",
    "\n",
    "    def __init__(self,make,model,year):\n",
    "        \"\"\"Initalize attributes to describe a car.\"\"\"\n",
    "        self.make=make\n",
    "        self.model=model\n",
    "        self.year=year\n",
    "        self.odometer_reading=0\n",
    "    \n",
    "    def get_descriptive_name(self):\n",
    "        \"\"\"Return a meatly formatted descriptive name.\"\"\"\n",
    "        long_name=str(self.year)+\" \"+self.make+\" \"+self.model\n",
    "        return long_name.title()\n",
    "    \n",
    "    def read_odometer(self):\n",
    "        \"\"\"Print a statement showing the car's mileage.\"\"\"\n",
    "        print(\"This car has \"+str(self.odometer_reading)+' miles on it.')\n",
    "\n",
    "    def update_odometer(self,mileage):\n",
    "        \"\"\"Set the odometer reading to the given value.\"\"\"\n",
    "        self.odometer_reading=mileage\n",
    "    \n",
    "\n",
    "my_new_car=Car('audi','a4',2021)\n",
    "print(my_new_car.get_descriptive_name())\n",
    "my_new_car.update_odometer(23)\n",
    "my_new_car.read_odometer()"
   ]
  },
  {
   "cell_type": "code",
   "execution_count": 19,
   "metadata": {},
   "outputs": [
    {
     "output_type": "stream",
     "name": "stdout",
     "text": [
      "2021 Audi A4\nThis car has 23 miles on it.\n"
     ]
    }
   ],
   "source": [
    "# Adding logic in above program\n",
    "class Car():\n",
    "    \"\"\"A simple attempt to represent a car.\"\"\"\n",
    "\n",
    "    def __init__(self,make,model,year):\n",
    "        \"\"\"Initalize attributes to describe a car.\"\"\"\n",
    "        self.make=make\n",
    "        self.model=model\n",
    "        self.year=year\n",
    "        self.odometer_reading=0\n",
    "    \n",
    "    def get_descriptive_name(self):\n",
    "        \"\"\"Return a meatly formatted descriptive name.\"\"\"\n",
    "        long_name=str(self.year)+\" \"+self.make+\" \"+self.model\n",
    "        return long_name.title()\n",
    "    \n",
    "    def read_odometer(self):\n",
    "        \"\"\"Print a statement showing the car's mileage.\"\"\"\n",
    "        print(\"This car has \"+str(self.odometer_reading)+' miles on it.')\n",
    "\n",
    "    def update_odometer(self,mileage):\n",
    "        \"\"\"Set the odometer reading to the given value.\"\"\"\n",
    "        if mileage>=self.odometer_reading:\n",
    "            self.odometer_reading=mileage\n",
    "        else:\n",
    "            print(\"You can't roll back an odometer\")\n",
    "    \n",
    "\n",
    "my_new_car=Car('audi','a4',2021)\n",
    "print(my_new_car.get_descriptive_name())\n",
    "my_new_car.update_odometer(23)\n",
    "my_new_car.read_odometer()"
   ]
  },
  {
   "cell_type": "code",
   "execution_count": 21,
   "metadata": {},
   "outputs": [
    {
     "output_type": "stream",
     "name": "stdout",
     "text": [
      "2019 Audi A4\nThis car has 23600 miles on it.\n"
     ]
    }
   ],
   "source": [
    "# Incrementing an attribute's value thorugh a method\n",
    "class Car():\n",
    "    \"\"\"A simple attempt to represent a car.\"\"\"\n",
    "\n",
    "    def __init__(self,make,model,year):\n",
    "        \"\"\"Initalize attributes to describe a car.\"\"\"\n",
    "        self.make=make\n",
    "        self.model=model\n",
    "        self.year=year\n",
    "        self.odometer_reading=0\n",
    "    \n",
    "    def get_descriptive_name(self):\n",
    "        \"\"\"Return a meatly formatted descriptive name.\"\"\"\n",
    "        long_name=str(self.year)+\" \"+self.make+\" \"+self.model\n",
    "        return long_name.title()\n",
    "    \n",
    "    def read_odometer(self):\n",
    "        \"\"\"Print a statement showing the car's mileage.\"\"\"\n",
    "        print(\"This car has \"+str(self.odometer_reading)+' miles on it.')\n",
    "\n",
    "    def update_odometer(self,mileage):\n",
    "        \"\"\"Set the odometer reading to the given value.\"\"\"\n",
    "        self.odometer_reading=mileage\n",
    "    \n",
    "    def increment_odometer(self,miles):\n",
    "        \"\"\"Add tie given amount to the odometer reading.\"\"\"\n",
    "        self.odometer_reading+=miles\n",
    "    \n",
    "\n",
    "my_used_car=Car('audi','a4',2019)\n",
    "print(my_used_car.get_descriptive_name())\n",
    "my_used_car.update_odometer(23500)\n",
    "my_used_car.increment_odometer(100)\n",
    "my_used_car.read_odometer()"
   ]
  },
  {
   "source": [
    "### Inheritance\n"
   ],
   "cell_type": "markdown",
   "metadata": {}
  },
  {
   "cell_type": "code",
   "execution_count": null,
   "metadata": {},
   "outputs": [],
   "source": []
  }
 ]
}