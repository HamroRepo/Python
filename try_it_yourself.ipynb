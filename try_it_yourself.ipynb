{
 "cells": [
  {
   "cell_type": "markdown",
   "metadata": {},
   "source": [
    "## Chapter 2\r\n",
    "### - Variable and Simple Data Types"
   ]
  },
  {
   "cell_type": "code",
   "execution_count": 2,
   "metadata": {},
   "outputs": [
    {
     "name": "stdout",
     "output_type": "stream",
     "text": [
      "Hi There\n"
     ]
    }
   ],
   "source": [
    "msg='Hi There'\r\n",
    "print(msg)"
   ]
  },
  {
   "cell_type": "code",
   "execution_count": 4,
   "metadata": {},
   "outputs": [
    {
     "name": "stdout",
     "output_type": "stream",
     "text": [
      "Hi!\n",
      "Good Morning!\n"
     ]
    }
   ],
   "source": [
    "msg=\"Hi!\"\r\n",
    "print(msg + \"\\n\"+ 'Good Morning!')"
   ]
  },
  {
   "cell_type": "code",
   "execution_count": 6,
   "metadata": {},
   "outputs": [
    {
     "name": "stdout",
     "output_type": "stream",
     "text": [
      "Hello Aayush, would you like to learn some Python today?\n"
     ]
    }
   ],
   "source": [
    "#2-3. Personal Message:\r\n",
    "name = 'Aayush'\r\n",
    "print('Hello '+name+', would you like to learn some Python today?')"
   ]
  },
  {
   "cell_type": "code",
   "execution_count": 8,
   "metadata": {},
   "outputs": [
    {
     "name": "stdout",
     "output_type": "stream",
     "text": [
      "AAYUSH\n",
      "aayush\n",
      "Aayush\n"
     ]
    }
   ],
   "source": [
    "#2-4. Name Cases:\r\n",
    "name=\"Aayush\"\r\n",
    "print(name.upper())\r\n",
    "print(name.lower())\r\n",
    "print(name.title())"
   ]
  },
  {
   "cell_type": "code",
   "execution_count": 11,
   "metadata": {},
   "outputs": [
    {
     "name": "stdout",
     "output_type": "stream",
     "text": [
      "Albert Einstein once said, \"A persom who never made a mistake never tried anything new.\"\n"
     ]
    }
   ],
   "source": [
    "#2-5. Famous Quote:\r\n",
    "quote=\"A persom who never made a mistake never tried anything new.\"\r\n",
    "author=\"Albert Einstein\"\r\n",
    "print(author+' once said, \"'+quote+'\"')"
   ]
  },
  {
   "cell_type": "code",
   "execution_count": 12,
   "metadata": {},
   "outputs": [
    {
     "name": "stdout",
     "output_type": "stream",
     "text": [
      "Albert Einstein once said, \"A persom who never made a mistake never tried anything new.\"\n"
     ]
    }
   ],
   "source": [
    "#2-6 Famous Quote2:\r\n",
    "message=\"A persom who never made a mistake never tried anything new.\"\r\n",
    "famous_person=\"Albert Einstein\"\r\n",
    "print(famous_person+' once said, \"'+message+'\"')"
   ]
  },
  {
   "cell_type": "code",
   "execution_count": 15,
   "metadata": {},
   "outputs": [
    {
     "name": "stdout",
     "output_type": "stream",
     "text": [
      "\tram \n",
      " \n",
      "ram \n",
      " \n",
      "\tram\n",
      "ram\n"
     ]
    }
   ],
   "source": [
    "#2-7. Stripping Names:\r\n",
    "person_name='\\tram \\n '\r\n",
    "print(person_name)\r\n",
    "print(person_name.lstrip())\r\n",
    "print(person_name.rstrip())\r\n",
    "print(person_name.strip())\r\n"
   ]
  },
  {
   "cell_type": "code",
   "execution_count": 16,
   "metadata": {},
   "outputs": [
    {
     "name": "stdout",
     "output_type": "stream",
     "text": [
      "8\n",
      "8\n",
      "8\n",
      "8.0\n"
     ]
    }
   ],
   "source": [
    "#2-8. Number Eight:\r\n",
    "print(6+2)\r\n",
    "print(10-2)\r\n",
    "print(4*2)\r\n",
    "print(16/2)"
   ]
  },
  {
   "cell_type": "code",
   "execution_count": 17,
   "metadata": {},
   "outputs": [
    {
     "name": "stdout",
     "output_type": "stream",
     "text": [
      "Fav number is 4\n"
     ]
    }
   ],
   "source": [
    "#2-9. Favorite Number\r\n",
    "fav_num='4'\r\n",
    "print('Fav number is '+fav_num)"
   ]
  },
  {
   "cell_type": "code",
   "execution_count": 18,
   "metadata": {},
   "outputs": [],
   "source": [
    "#2-10. Adding Comments:"
   ]
  },
  {
   "cell_type": "code",
   "execution_count": 19,
   "metadata": {},
   "outputs": [
    {
     "name": "stdout",
     "output_type": "stream",
     "text": [
      "The Zen of Python, by Tim Peters\n",
      "\n",
      "Beautiful is better than ugly.\n",
      "Explicit is better than implicit.\n",
      "Simple is better than complex.\n",
      "Complex is better than complicated.\n",
      "Flat is better than nested.\n",
      "Sparse is better than dense.\n",
      "Readability counts.\n",
      "Special cases aren't special enough to break the rules.\n",
      "Although practicality beats purity.\n",
      "Errors should never pass silently.\n",
      "Unless explicitly silenced.\n",
      "In the face of ambiguity, refuse the temptation to guess.\n",
      "There should be one-- and preferably only one --obvious way to do it.\n",
      "Although that way may not be obvious at first unless you're Dutch.\n",
      "Now is better than never.\n",
      "Although never is often better than *right* now.\n",
      "If the implementation is hard to explain, it's a bad idea.\n",
      "If the implementation is easy to explain, it may be a good idea.\n",
      "Namespaces are one honking great idea -- let's do more of those!\n"
     ]
    }
   ],
   "source": [
    "import this"
   ]
  },
  {
   "cell_type": "markdown",
   "metadata": {},
   "source": [
    "## Chapter 3\r\n",
    "### - Introducing Lists"
   ]
  },
  {
   "cell_type": "code",
   "execution_count": 21,
   "metadata": {},
   "outputs": [
    {
     "name": "stdout",
     "output_type": "stream",
     "text": [
      "Rabindra\n",
      "Prasmit\n",
      "Ashwin\n",
      "Amrit\n"
     ]
    }
   ],
   "source": [
    "#3-1. Names:\r\n",
    "names=['Rabindra','Prasmit','Ashwin','Amrit']\r\n",
    "print(names[0])\r\n",
    "print(names[1])\r\n",
    "print(names[2])\r\n",
    "print(names[3])"
   ]
  },
  {
   "cell_type": "code",
   "execution_count": 24,
   "metadata": {},
   "outputs": [
    {
     "name": "stdout",
     "output_type": "stream",
     "text": [
      "Hlo Rabindra, How are you?\n",
      "Hlo Prasmit, How are you?\n",
      "Hlo Ashwin, How are you?\n",
      "Hlo Amrit, How are you?\n"
     ]
    }
   ],
   "source": [
    "#3-2. Greetings:\r\n",
    "print('Hlo '+names[0]+', How are you?')\r\n",
    "print('Hlo '+names[1]+', How are you?')\r\n",
    "print('Hlo '+names[2]+', How are you?')\r\n",
    "print('Hlo '+names[3]+', How are you?')"
   ]
  },
  {
   "cell_type": "code",
   "execution_count": 28,
   "metadata": {},
   "outputs": [
    {
     "name": "stdout",
     "output_type": "stream",
     "text": [
      "I would like to go in a long drive in my car\n",
      "I would like to fly an aeroplane\n",
      "I would like to ride motorbike at speed of 100km/hr\n"
     ]
    }
   ],
   "source": [
    "#3-3. Your own List:\r\n",
    "trasportation=['car','motorbike','aeroplane']\r\n",
    "print('I would like to go in a long drive in my '+trasportation[0])\r\n",
    "print('I would like to fly an '+trasportation[2])\r\n",
    "print('I would like to ride '+trasportation[1]+' at speed of 100km/hr')"
   ]
  },
  {
   "cell_type": "code",
   "execution_count": 30,
   "metadata": {},
   "outputs": [
    {
     "name": "stdout",
     "output_type": "stream",
     "text": [
      "Hi Harry, Would you like to have dinner in my place?\n",
      "Hi Mohan, Would you like to have dinner in my place?\n",
      "Hi Ramu, Would you like to have dinner in my place?\n"
     ]
    }
   ],
   "source": [
    "#3-4 Guest List:\r\n",
    "guest=['Harry','Ramu','Mohan']\r\n",
    "print('Hi '+guest[0]+', Would you like to have dinner in my place?')\r\n",
    "print('Hi '+guest[2]+', Would you like to have dinner in my place?')\r\n",
    "print('Hi '+guest[1]+', Would you like to have dinner in my place?')"
   ]
  },
  {
   "cell_type": "code",
   "execution_count": 31,
   "metadata": {},
   "outputs": [
    {
     "name": "stdout",
     "output_type": "stream",
     "text": [
      "Hi Harry, Would you like to have dinner in my place?\n",
      "Hi Mohan, Would you like to have dinner in my place?\n",
      "Hi Ramu, Would you like to have dinner in my place?\n",
      "Mohan, Cant make it\n",
      "Hi Harry, Would you like to have dinner in my place?\n",
      "Hi Shyam, Would you like to have dinner in my place?\n",
      "Hi Ramu, Would you like to have dinner in my place?\n"
     ]
    }
   ],
   "source": [
    "#3-5 Changing Guest List:\r\n",
    "guest=['Harry','Ramu','Mohan']\r\n",
    "print('Hi '+guest[0]+', Would you like to have dinner in my place?')\r\n",
    "print('Hi '+guest[2]+', Would you like to have dinner in my place?')\r\n",
    "print('Hi '+guest[1]+', Would you like to have dinner in my place?')\r\n",
    "print(guest[2]+', Cant make it')\r\n",
    "\r\n",
    "guest[2]='Shyam'\r\n",
    "print('Hi '+guest[0]+', Would you like to have dinner in my place?')\r\n",
    "print('Hi '+guest[2]+', Would you like to have dinner in my place?')\r\n",
    "print('Hi '+guest[1]+', Would you like to have dinner in my place?')"
   ]
  },
  {
   "cell_type": "code",
   "execution_count": 33,
   "metadata": {},
   "outputs": [
    {
     "name": "stdout",
     "output_type": "stream",
     "text": [
      "Hi Shyam, Would you like to have dinner in my place?\n",
      "Hi Harry, Would you like to have dinner in my place?\n",
      "Hi Sita, Would you like to have dinner in my place?\n",
      "Hi Ramu, Would you like to have dinner in my place?\n",
      "Hi Mohan, Would you like to have dinner in my place?\n"
     ]
    }
   ],
   "source": [
    "#3-6. More Guests:\r\n",
    "guest=['Harry','Ramu','Mohan']\r\n",
    "guest.insert(0,'Shyam')\r\n",
    "guest.insert(2,'Sita')\r\n",
    "print('Hi '+guest[0]+', Would you like to have dinner in my place?')\r\n",
    "print('Hi '+guest[1]+', Would you like to have dinner in my place?')\r\n",
    "print('Hi '+guest[2]+', Would you like to have dinner in my place?')\r\n",
    "print('Hi '+guest[3]+', Would you like to have dinner in my place?')\r\n",
    "print('Hi '+guest[4]+', Would you like to have dinner in my place?')"
   ]
  },
  {
   "cell_type": "code",
   "execution_count": 39,
   "metadata": {},
   "outputs": [
    {
     "name": "stdout",
     "output_type": "stream",
     "text": [
      "Hi Shyam, Would you like to have dinner in my place?\n",
      "Hi Harry, Would you like to have dinner in my place?\n",
      "Hi Sita, Would you like to have dinner in my place?\n",
      "Hi Ramu, Would you like to have dinner in my place?\n",
      "Hi Mohan, Would you like to have dinner in my place?\n",
      "\n",
      " Sorry, the table is not ready. I can only invite 2 people\n",
      "\n",
      "Sorry  Mohan, I will invite you next time\n",
      "Sorry  Ramu, I will invite you next time\n",
      "Sorry  Sita, I will invite you next time\n",
      "Shyam you are still invited to dinner\n",
      "Harry you are still invited to dinner\n",
      "Dinner Complete, No more Guests\n",
      "\n",
      "[]\n"
     ]
    }
   ],
   "source": [
    "#3-7. Shrinking Guest List\r\n",
    "guest=['Harry','Ramu','Mohan']\r\n",
    "guest.insert(0,'Shyam')\r\n",
    "guest.insert(2,'Sita')\r\n",
    "print('Hi '+guest[0]+', Would you like to have dinner in my place?')\r\n",
    "print('Hi '+guest[1]+', Would you like to have dinner in my place?')\r\n",
    "print('Hi '+guest[2]+', Would you like to have dinner in my place?')\r\n",
    "print('Hi '+guest[3]+', Would you like to have dinner in my place?')\r\n",
    "print('Hi '+guest[4]+', Would you like to have dinner in my place?')\r\n",
    "\r\n",
    "print('\\n Sorry, the table is not ready. I can only invite 2 people\\n')\r\n",
    "\r\n",
    "print('Sorry ',guest.pop()+', I will invite you next time')\r\n",
    "print('Sorry ',guest.pop()+', I will invite you next time')\r\n",
    "print('Sorry ',guest.pop()+', I will invite you next time')\r\n",
    "\r\n",
    "print(guest[0]+\" you are still invited to dinner\")\r\n",
    "print(guest[1]+\" you are still invited to dinner\")\r\n",
    "\r\n",
    "del guest[1]\r\n",
    "del guest[0]\r\n",
    "\r\n",
    "print(\"Dinner Complete, No more Guests\\n\")\r\n",
    "\r\n",
    "print(guest)"
   ]
  },
  {
   "cell_type": "code",
   "execution_count": 20,
   "metadata": {},
   "outputs": [
    {
     "name": "stdout",
     "output_type": "stream",
     "text": [
      "['Bhaktapur', 'Rara', 'Manang', 'Mustang', 'ABC']\n",
      "['ABC', 'Bhaktapur', 'Manang', 'Mustang', 'Rara']\n",
      "['Bhaktapur', 'Rara', 'Manang', 'Mustang', 'ABC']\n",
      "['Rara', 'Mustang', 'Manang', 'Bhaktapur', 'ABC']\n",
      "['Bhaktapur', 'Rara', 'Manang', 'Mustang', 'ABC']\n",
      "['ABC', 'Mustang', 'Manang', 'Rara', 'Bhaktapur']\n",
      "['Bhaktapur', 'Rara', 'Manang', 'Mustang', 'ABC']\n",
      "['ABC', 'Bhaktapur', 'Manang', 'Mustang', 'Rara']\n",
      "['Rara', 'Mustang', 'Manang', 'Bhaktapur', 'ABC']\n"
     ]
    }
   ],
   "source": [
    "#3-8. seeing the World:\r\n",
    "locations=['Bhaktapur','Rara','Manang','Mustang','ABC']\r\n",
    "print(locations)\r\n",
    "print(sorted(locations))\r\n",
    "print(locations)\r\n",
    "print(sorted(locations,reverse=True))\r\n",
    "print(locations)\r\n",
    "locations.reverse()\r\n",
    "print(locations)\r\n",
    "locations.reverse()\r\n",
    "print(locations)\r\n",
    "locations.sort()\r\n",
    "print(locations)\r\n",
    "locations.sort(reverse=True)\r\n",
    "print(locations)\r\n"
   ]
  },
  {
   "cell_type": "code",
   "execution_count": 3,
   "metadata": {},
   "outputs": [
    {
     "name": "stdout",
     "output_type": "stream",
     "text": [
      "3\n"
     ]
    }
   ],
   "source": [
    "#3-9. Dinner Guests:\r\n",
    "guest=['Harry','Ramu','Mohan']\r\n",
    "print(len(guest))"
   ]
  },
  {
   "cell_type": "code",
   "execution_count": 17,
   "metadata": {},
   "outputs": [
    {
     "name": "stdout",
     "output_type": "stream",
     "text": [
      "['Nepali', 'Maithili', 'Newari', 'Bhojpuri', 'Tamang']\n",
      "['Nepali', 'Maithili', 'Newari', 'Bhojpuri']\n",
      "['Nepali', 'Maithili', 'Newari']\n",
      "['Maithili', 'Nepali', 'Newari']\n",
      "['Newari', 'Nepali', 'Maithili']\n",
      "['Maithili', 'Nepali', 'Newari']\n",
      "['Newari', 'Nepali', 'Maithili']\n",
      "3\n"
     ]
    }
   ],
   "source": [
    "#3-10. Every Functions:\r\n",
    "languages =['Nepali','Maithili','Newari','Bhojpuri']\r\n",
    "\r\n",
    "#insert\r\n",
    "languages.insert(4,\"Tamang\")\r\n",
    "print(languages);\r\n",
    "\r\n",
    "#pop()\r\n",
    "languages.pop()\r\n",
    "print(languages);\r\n",
    "\r\n",
    "#del()\r\n",
    "del languages[3]\r\n",
    "print(languages);\r\n",
    "\r\n",
    "#sort()\r\n",
    "languages.sort()\r\n",
    "print(languages)\r\n",
    "\r\n",
    "#reverse sort\r\n",
    "languages.sort(reverse=True)\r\n",
    "print(languages)\r\n",
    "\r\n",
    "#sorted()\r\n",
    "print(sorted(languages))\r\n",
    "\r\n",
    "#reverse using sorted\r\n",
    "print(sorted(languages,reverse=True))\r\n",
    "\r\n",
    "#len()\r\n",
    "print(len(languages))"
   ]
  },
  {
   "cell_type": "code",
   "execution_count": 20,
   "metadata": {},
   "outputs": [
    {
     "ename": "IndexError",
     "evalue": "list index out of range",
     "output_type": "error",
     "traceback": [
      "\u001b[1;31m---------------------------------------------------------------------------\u001b[0m",
      "\u001b[1;31mIndexError\u001b[0m                                Traceback (most recent call last)",
      "\u001b[1;32m<ipython-input-20-b64d2b3cbaeb>\u001b[0m in \u001b[0;36m<module>\u001b[1;34m\u001b[0m\n\u001b[0;32m      1\u001b[0m \u001b[1;31m#3-11. Intentional Error:\u001b[0m\u001b[1;33m\u001b[0m\u001b[1;33m\u001b[0m\u001b[1;33m\u001b[0m\u001b[0m\n\u001b[1;32m----> 2\u001b[1;33m \u001b[0mprint\u001b[0m\u001b[1;33m(\u001b[0m\u001b[0mlanguages\u001b[0m\u001b[1;33m[\u001b[0m\u001b[1;36m3\u001b[0m\u001b[1;33m]\u001b[0m\u001b[1;33m)\u001b[0m\u001b[1;33m\u001b[0m\u001b[1;33m\u001b[0m\u001b[0m\n\u001b[0m\u001b[0;32m      3\u001b[0m \u001b[0mlanguages\u001b[0m\u001b[1;33m.\u001b[0m\u001b[0minsert\u001b[0m\u001b[1;33m(\u001b[0m\u001b[1;36m3\u001b[0m\u001b[1;33m,\u001b[0m\u001b[1;34m\"Tamang\"\u001b[0m\u001b[1;33m)\u001b[0m\u001b[1;33m\u001b[0m\u001b[1;33m\u001b[0m\u001b[0m\n",
      "\u001b[1;31mIndexError\u001b[0m: list index out of range"
     ]
    }
   ],
   "source": [
    "#3-11. Intentional Error:\r\n",
    "print(languages[3])\r\n",
    "languages.insert(3,\"Tamang\")"
   ]
  },
  {
   "cell_type": "markdown",
   "metadata": {},
   "source": [
    "## Working with List\r\n",
    "- Chapter 4\r\n",
    "\r\n",
    "\r\n",
    "\r\n",
    "\r\n"
   ]
  },
  {
   "cell_type": "code",
   "execution_count": 25,
   "metadata": {},
   "outputs": [
    {
     "name": "stdout",
     "output_type": "stream",
     "text": [
      "I like Pepperoni pizza.\n",
      "I like Mushroom pizza.\n",
      "I like Cheese pizza.\n",
      "I like Sausage pizza.\n",
      "I really hate pizza \n"
     ]
    }
   ],
   "source": [
    "#4-1. Pizzas:\r\n",
    "favorite_pizza = ['Pepperoni','Mushroom','Cheese','Sausage']\r\n",
    "for pizza in favorite_pizza:\r\n",
    "    print(\"I like \"+pizza+\" pizza.\")\r\n",
    "print('I really hate pizza ')"
   ]
  },
  {
   "cell_type": "code",
   "execution_count": null,
   "metadata": {},
   "outputs": [],
   "source": []
  }
 ],
 "metadata": {
  "interpreter": {
   "hash": "01e4a4ef43d7435a6845fd7336130797196ba9e9ad58f05806271349b7c58ab1"
  },
  "kernelspec": {
   "display_name": "Python 3.8.2 64-bit",
   "name": "python3"
  },
  "language_info": {
   "codemirror_mode": {
    "name": "ipython",
    "version": 3
   },
   "file_extension": ".py",
   "mimetype": "text/x-python",
   "name": "python",
   "nbconvert_exporter": "python",
   "pygments_lexer": "ipython3",
   "version": "3.8.2"
  },
  "metadata": {
   "interpreter": {
    "hash": "01e4a4ef43d7435a6845fd7336130797196ba9e9ad58f05806271349b7c58ab1"
   }
  },
  "orig_nbformat": 2
 },
 "nbformat": 4,
 "nbformat_minor": 2
}