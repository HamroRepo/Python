{
 "cells": [
  {
   "cell_type": "markdown",
   "metadata": {},
   "source": [
    "## Chapter 2\r\n",
    "### - Variable and Simple Data Types"
   ]
  },
  {
   "cell_type": "code",
   "execution_count": 2,
   "metadata": {},
   "outputs": [
    {
     "name": "stdout",
     "output_type": "stream",
     "text": [
      "Hi There\n"
     ]
    }
   ],
   "source": [
    "msg='Hi There'\r\n",
    "print(msg)"
   ]
  },
  {
   "cell_type": "code",
   "execution_count": 4,
   "metadata": {},
   "outputs": [
    {
     "name": "stdout",
     "output_type": "stream",
     "text": [
      "Hi!\n",
      "Good Morning!\n"
     ]
    }
   ],
   "source": [
    "msg=\"Hi!\"\r\n",
    "print(msg + \"\\n\"+ 'Good Morning!')"
   ]
  },
  {
   "cell_type": "code",
   "execution_count": 6,
   "metadata": {},
   "outputs": [
    {
     "name": "stdout",
     "output_type": "stream",
     "text": [
      "Hello Aayush, would you like to learn some Python today?\n"
     ]
    }
   ],
   "source": [
    "#2-3. Personal Message:\r\n",
    "name = 'Aayush'\r\n",
    "print('Hello '+name+', would you like to learn some Python today?')"
   ]
  },
  {
   "cell_type": "code",
   "execution_count": 8,
   "metadata": {},
   "outputs": [
    {
     "name": "stdout",
     "output_type": "stream",
     "text": [
      "AAYUSH\n",
      "aayush\n",
      "Aayush\n"
     ]
    }
   ],
   "source": [
    "#2-4. Name Cases:\r\n",
    "name=\"Aayush\"\r\n",
    "print(name.upper())\r\n",
    "print(name.lower())\r\n",
    "print(name.title())"
   ]
  },
  {
   "cell_type": "code",
   "execution_count": 11,
   "metadata": {},
   "outputs": [
    {
     "name": "stdout",
     "output_type": "stream",
     "text": [
      "Albert Einstein once said, \"A persom who never made a mistake never tried anything new.\"\n"
     ]
    }
   ],
   "source": [
    "#2-5. Famous Quote:\r\n",
    "quote=\"A persom who never made a mistake never tried anything new.\"\r\n",
    "author=\"Albert Einstein\"\r\n",
    "print(author+' once said, \"'+quote+'\"')"
   ]
  },
  {
   "cell_type": "code",
   "execution_count": 12,
   "metadata": {},
   "outputs": [
    {
     "name": "stdout",
     "output_type": "stream",
     "text": [
      "Albert Einstein once said, \"A persom who never made a mistake never tried anything new.\"\n"
     ]
    }
   ],
   "source": [
    "#2-6 Famous Quote2:\r\n",
    "message=\"A persom who never made a mistake never tried anything new.\"\r\n",
    "famous_person=\"Albert Einstein\"\r\n",
    "print(famous_person+' once said, \"'+message+'\"')"
   ]
  },
  {
   "cell_type": "code",
   "execution_count": 15,
   "metadata": {},
   "outputs": [
    {
     "name": "stdout",
     "output_type": "stream",
     "text": [
      "\tram \n",
      " \n",
      "ram \n",
      " \n",
      "\tram\n",
      "ram\n"
     ]
    }
   ],
   "source": [
    "#2-7. Stripping Names:\r\n",
    "person_name='\\tram \\n '\r\n",
    "print(person_name)\r\n",
    "print(person_name.lstrip())\r\n",
    "print(person_name.rstrip())\r\n",
    "print(person_name.strip())\r\n"
   ]
  },
  {
   "cell_type": "code",
   "execution_count": 16,
   "metadata": {},
   "outputs": [
    {
     "name": "stdout",
     "output_type": "stream",
     "text": [
      "8\n",
      "8\n",
      "8\n",
      "8.0\n"
     ]
    }
   ],
   "source": [
    "#2-8. Number Eight:\r\n",
    "print(6+2)\r\n",
    "print(10-2)\r\n",
    "print(4*2)\r\n",
    "print(16/2)"
   ]
  },
  {
   "cell_type": "code",
   "execution_count": 17,
   "metadata": {},
   "outputs": [
    {
     "name": "stdout",
     "output_type": "stream",
     "text": [
      "Fav number is 4\n"
     ]
    }
   ],
   "source": [
    "#2-9. Favorite Number\r\n",
    "fav_num='4'\r\n",
    "print('Fav number is '+fav_num)"
   ]
  },
  {
   "cell_type": "code",
   "execution_count": 18,
   "metadata": {},
   "outputs": [],
   "source": [
    "#2-10. Adding Comments:"
   ]
  },
  {
   "cell_type": "code",
   "execution_count": 19,
   "metadata": {},
   "outputs": [
    {
     "name": "stdout",
     "output_type": "stream",
     "text": [
      "The Zen of Python, by Tim Peters\n",
      "\n",
      "Beautiful is better than ugly.\n",
      "Explicit is better than implicit.\n",
      "Simple is better than complex.\n",
      "Complex is better than complicated.\n",
      "Flat is better than nested.\n",
      "Sparse is better than dense.\n",
      "Readability counts.\n",
      "Special cases aren't special enough to break the rules.\n",
      "Although practicality beats purity.\n",
      "Errors should never pass silently.\n",
      "Unless explicitly silenced.\n",
      "In the face of ambiguity, refuse the temptation to guess.\n",
      "There should be one-- and preferably only one --obvious way to do it.\n",
      "Although that way may not be obvious at first unless you're Dutch.\n",
      "Now is better than never.\n",
      "Although never is often better than *right* now.\n",
      "If the implementation is hard to explain, it's a bad idea.\n",
      "If the implementation is easy to explain, it may be a good idea.\n",
      "Namespaces are one honking great idea -- let's do more of those!\n"
     ]
    }
   ],
   "source": [
    "import this"
   ]
  },
  {
   "cell_type": "markdown",
   "metadata": {},
   "source": [
    "## Chapter 3\r\n",
    "### - Introducing Lists"
   ]
  },
  {
   "cell_type": "code",
   "execution_count": 21,
   "metadata": {},
   "outputs": [
    {
     "name": "stdout",
     "output_type": "stream",
     "text": [
      "Rabindra\n",
      "Prasmit\n",
      "Ashwin\n",
      "Amrit\n"
     ]
    }
   ],
   "source": [
    "#3-1. Names:\r\n",
    "names=['Rabindra','Prasmit','Ashwin','Amrit']\r\n",
    "print(names[0])\r\n",
    "print(names[1])\r\n",
    "print(names[2])\r\n",
    "print(names[3])"
   ]
  },
  {
   "cell_type": "code",
   "execution_count": 24,
   "metadata": {},
   "outputs": [
    {
     "name": "stdout",
     "output_type": "stream",
     "text": [
      "Hlo Rabindra, How are you?\n",
      "Hlo Prasmit, How are you?\n",
      "Hlo Ashwin, How are you?\n",
      "Hlo Amrit, How are you?\n"
     ]
    }
   ],
   "source": [
    "#3-2. Greetings:\r\n",
    "print('Hlo '+names[0]+', How are you?')\r\n",
    "print('Hlo '+names[1]+', How are you?')\r\n",
    "print('Hlo '+names[2]+', How are you?')\r\n",
    "print('Hlo '+names[3]+', How are you?')"
   ]
  },
  {
   "cell_type": "code",
   "execution_count": 28,
   "metadata": {},
   "outputs": [
    {
     "name": "stdout",
     "output_type": "stream",
     "text": [
      "I would like to go in a long drive in my car\n",
      "I would like to fly an aeroplane\n",
      "I would like to ride motorbike at speed of 100km/hr\n"
     ]
    }
   ],
   "source": [
    "#3-3. Your own List:\r\n",
    "trasportation=['car','motorbike','aeroplane']\r\n",
    "print('I would like to go in a long drive in my '+trasportation[0])\r\n",
    "print('I would like to fly an '+trasportation[2])\r\n",
    "print('I would like to ride '+trasportation[1]+' at speed of 100km/hr')"
   ]
  },
  {
   "cell_type": "code",
   "execution_count": 30,
   "metadata": {},
   "outputs": [
    {
     "name": "stdout",
     "output_type": "stream",
     "text": [
      "Hi Harry, Would you like to have dinner in my place?\n",
      "Hi Mohan, Would you like to have dinner in my place?\n",
      "Hi Ramu, Would you like to have dinner in my place?\n"
     ]
    }
   ],
   "source": [
    "#3-4 Guest List:\r\n",
    "guest=['Harry','Ramu','Mohan']\r\n",
    "print('Hi '+guest[0]+', Would you like to have dinner in my place?')\r\n",
    "print('Hi '+guest[2]+', Would you like to have dinner in my place?')\r\n",
    "print('Hi '+guest[1]+', Would you like to have dinner in my place?')"
   ]
  },
  {
   "cell_type": "code",
   "execution_count": 31,
   "metadata": {},
   "outputs": [
    {
     "name": "stdout",
     "output_type": "stream",
     "text": [
      "Hi Harry, Would you like to have dinner in my place?\n",
      "Hi Mohan, Would you like to have dinner in my place?\n",
      "Hi Ramu, Would you like to have dinner in my place?\n",
      "Mohan, Cant make it\n",
      "Hi Harry, Would you like to have dinner in my place?\n",
      "Hi Shyam, Would you like to have dinner in my place?\n",
      "Hi Ramu, Would you like to have dinner in my place?\n"
     ]
    }
   ],
   "source": [
    "#3-5 Changing Guest List:\r\n",
    "guest=['Harry','Ramu','Mohan']\r\n",
    "print('Hi '+guest[0]+', Would you like to have dinner in my place?')\r\n",
    "print('Hi '+guest[2]+', Would you like to have dinner in my place?')\r\n",
    "print('Hi '+guest[1]+', Would you like to have dinner in my place?')\r\n",
    "print(guest[2]+', Cant make it')\r\n",
    "\r\n",
    "guest[2]='Shyam'\r\n",
    "print('Hi '+guest[0]+', Would you like to have dinner in my place?')\r\n",
    "print('Hi '+guest[2]+', Would you like to have dinner in my place?')\r\n",
    "print('Hi '+guest[1]+', Would you like to have dinner in my place?')"
   ]
  },
  {
   "cell_type": "code",
   "execution_count": 33,
   "metadata": {},
   "outputs": [
    {
     "name": "stdout",
     "output_type": "stream",
     "text": [
      "Hi Shyam, Would you like to have dinner in my place?\n",
      "Hi Harry, Would you like to have dinner in my place?\n",
      "Hi Sita, Would you like to have dinner in my place?\n",
      "Hi Ramu, Would you like to have dinner in my place?\n",
      "Hi Mohan, Would you like to have dinner in my place?\n"
     ]
    }
   ],
   "source": [
    "#3-6. More Guests:\r\n",
    "guest=['Harry','Ramu','Mohan']\r\n",
    "guest.insert(0,'Shyam')\r\n",
    "guest.insert(2,'Sita')\r\n",
    "print('Hi '+guest[0]+', Would you like to have dinner in my place?')\r\n",
    "print('Hi '+guest[1]+', Would you like to have dinner in my place?')\r\n",
    "print('Hi '+guest[2]+', Would you like to have dinner in my place?')\r\n",
    "print('Hi '+guest[3]+', Would you like to have dinner in my place?')\r\n",
    "print('Hi '+guest[4]+', Would you like to have dinner in my place?')"
   ]
  },
  {
   "cell_type": "code",
   "execution_count": 39,
   "metadata": {},
   "outputs": [
    {
     "name": "stdout",
     "output_type": "stream",
     "text": [
      "Hi Shyam, Would you like to have dinner in my place?\n",
      "Hi Harry, Would you like to have dinner in my place?\n",
      "Hi Sita, Would you like to have dinner in my place?\n",
      "Hi Ramu, Would you like to have dinner in my place?\n",
      "Hi Mohan, Would you like to have dinner in my place?\n",
      "\n",
      " Sorry, the table is not ready. I can only invite 2 people\n",
      "\n",
      "Sorry  Mohan, I will invite you next time\n",
      "Sorry  Ramu, I will invite you next time\n",
      "Sorry  Sita, I will invite you next time\n",
      "Shyam you are still invited to dinner\n",
      "Harry you are still invited to dinner\n",
      "Dinner Complete, No more Guests\n",
      "\n",
      "[]\n"
     ]
    }
   ],
   "source": [
    "#3-7. Shrinking Guest List\r\n",
    "guest=['Harry','Ramu','Mohan']\r\n",
    "guest.insert(0,'Shyam')\r\n",
    "guest.insert(2,'Sita')\r\n",
    "print('Hi '+guest[0]+', Would you like to have dinner in my place?')\r\n",
    "print('Hi '+guest[1]+', Would you like to have dinner in my place?')\r\n",
    "print('Hi '+guest[2]+', Would you like to have dinner in my place?')\r\n",
    "print('Hi '+guest[3]+', Would you like to have dinner in my place?')\r\n",
    "print('Hi '+guest[4]+', Would you like to have dinner in my place?')\r\n",
    "\r\n",
    "print('\\n Sorry, the table is not ready. I can only invite 2 people\\n')\r\n",
    "\r\n",
    "print('Sorry ',guest.pop()+', I will invite you next time')\r\n",
    "print('Sorry ',guest.pop()+', I will invite you next time')\r\n",
    "print('Sorry ',guest.pop()+', I will invite you next time')\r\n",
    "\r\n",
    "print(guest[0]+\" you are still invited to dinner\")\r\n",
    "print(guest[1]+\" you are still invited to dinner\")\r\n",
    "\r\n",
    "del guest[1]\r\n",
    "del guest[0]\r\n",
    "\r\n",
    "print(\"Dinner Complete, No more Guests\\n\")\r\n",
    "\r\n",
    "print(guest)"
   ]
  },
  {
   "cell_type": "code",
   "execution_count": 20,
   "metadata": {},
   "outputs": [
    {
     "name": "stdout",
     "output_type": "stream",
     "text": [
      "['Bhaktapur', 'Rara', 'Manang', 'Mustang', 'ABC']\n",
      "['ABC', 'Bhaktapur', 'Manang', 'Mustang', 'Rara']\n",
      "['Bhaktapur', 'Rara', 'Manang', 'Mustang', 'ABC']\n",
      "['Rara', 'Mustang', 'Manang', 'Bhaktapur', 'ABC']\n",
      "['Bhaktapur', 'Rara', 'Manang', 'Mustang', 'ABC']\n",
      "['ABC', 'Mustang', 'Manang', 'Rara', 'Bhaktapur']\n",
      "['Bhaktapur', 'Rara', 'Manang', 'Mustang', 'ABC']\n",
      "['ABC', 'Bhaktapur', 'Manang', 'Mustang', 'Rara']\n",
      "['Rara', 'Mustang', 'Manang', 'Bhaktapur', 'ABC']\n"
     ]
    }
   ],
   "source": [
    "#3-8. seeing the World:\r\n",
    "locations=['Bhaktapur','Rara','Manang','Mustang','ABC']\r\n",
    "print(locations)\r\n",
    "print(sorted(locations))\r\n",
    "print(locations)\r\n",
    "print(sorted(locations,reverse=True))\r\n",
    "print(locations)\r\n",
    "locations.reverse()\r\n",
    "print(locations)\r\n",
    "locations.reverse()\r\n",
    "print(locations)\r\n",
    "locations.sort()\r\n",
    "print(locations)\r\n",
    "locations.sort(reverse=True)\r\n",
    "print(locations)\r\n"
   ]
  },
  {
   "cell_type": "code",
   "execution_count": 3,
   "metadata": {},
   "outputs": [
    {
     "name": "stdout",
     "output_type": "stream",
     "text": [
      "3\n"
     ]
    }
   ],
   "source": [
    "#3-9. Dinner Guests:\r\n",
    "guest=['Harry','Ramu','Mohan']\r\n",
    "print(len(guest))"
   ]
  },
  {
   "cell_type": "code",
   "execution_count": 17,
   "metadata": {},
   "outputs": [
    {
     "name": "stdout",
     "output_type": "stream",
     "text": [
      "['Nepali', 'Maithili', 'Newari', 'Bhojpuri', 'Tamang']\n",
      "['Nepali', 'Maithili', 'Newari', 'Bhojpuri']\n",
      "['Nepali', 'Maithili', 'Newari']\n",
      "['Maithili', 'Nepali', 'Newari']\n",
      "['Newari', 'Nepali', 'Maithili']\n",
      "['Maithili', 'Nepali', 'Newari']\n",
      "['Newari', 'Nepali', 'Maithili']\n",
      "3\n"
     ]
    }
   ],
   "source": [
    "#3-10. Every Functions:\r\n",
    "languages =['Nepali','Maithili','Newari','Bhojpuri']\r\n",
    "\r\n",
    "#insert\r\n",
    "languages.insert(4,\"Tamang\")\r\n",
    "print(languages);\r\n",
    "\r\n",
    "#pop()\r\n",
    "languages.pop()\r\n",
    "print(languages);\r\n",
    "\r\n",
    "#del()\r\n",
    "del languages[3]\r\n",
    "print(languages);\r\n",
    "\r\n",
    "#sort()\r\n",
    "languages.sort()\r\n",
    "print(languages)\r\n",
    "\r\n",
    "#reverse sort\r\n",
    "languages.sort(reverse=True)\r\n",
    "print(languages)\r\n",
    "\r\n",
    "#sorted()\r\n",
    "print(sorted(languages))\r\n",
    "\r\n",
    "#reverse using sorted\r\n",
    "print(sorted(languages,reverse=True))\r\n",
    "\r\n",
    "#len()\r\n",
    "print(len(languages))"
   ]
  },
  {
   "cell_type": "code",
   "execution_count": 20,
   "metadata": {},
   "outputs": [
    {
     "ename": "IndexError",
     "evalue": "list index out of range",
     "output_type": "error",
     "traceback": [
      "\u001b[1;31m---------------------------------------------------------------------------\u001b[0m",
      "\u001b[1;31mIndexError\u001b[0m                                Traceback (most recent call last)",
      "\u001b[1;32m<ipython-input-20-b64d2b3cbaeb>\u001b[0m in \u001b[0;36m<module>\u001b[1;34m\u001b[0m\n\u001b[0;32m      1\u001b[0m \u001b[1;31m#3-11. Intentional Error:\u001b[0m\u001b[1;33m\u001b[0m\u001b[1;33m\u001b[0m\u001b[1;33m\u001b[0m\u001b[0m\n\u001b[1;32m----> 2\u001b[1;33m \u001b[0mprint\u001b[0m\u001b[1;33m(\u001b[0m\u001b[0mlanguages\u001b[0m\u001b[1;33m[\u001b[0m\u001b[1;36m3\u001b[0m\u001b[1;33m]\u001b[0m\u001b[1;33m)\u001b[0m\u001b[1;33m\u001b[0m\u001b[1;33m\u001b[0m\u001b[0m\n\u001b[0m\u001b[0;32m      3\u001b[0m \u001b[0mlanguages\u001b[0m\u001b[1;33m.\u001b[0m\u001b[0minsert\u001b[0m\u001b[1;33m(\u001b[0m\u001b[1;36m3\u001b[0m\u001b[1;33m,\u001b[0m\u001b[1;34m\"Tamang\"\u001b[0m\u001b[1;33m)\u001b[0m\u001b[1;33m\u001b[0m\u001b[1;33m\u001b[0m\u001b[0m\n",
      "\u001b[1;31mIndexError\u001b[0m: list index out of range"
     ]
    }
   ],
   "source": [
    "#3-11. Intentional Error:\r\n",
    "print(languages[3])\r\n",
    "languages.insert(3,\"Tamang\")"
   ]
  },
  {
   "cell_type": "markdown",
   "metadata": {},
   "source": [
    "## Working with List\r\n",
    "- Chapter 4\r\n",
    "\r\n",
    "\r\n",
    "\r\n",
    "\r\n"
   ]
  },
  {
   "cell_type": "code",
   "execution_count": 25,
   "metadata": {},
   "outputs": [
    {
     "name": "stdout",
     "output_type": "stream",
     "text": [
      "I like Pepperoni pizza.\n",
      "I like Mushroom pizza.\n",
      "I like Cheese pizza.\n",
      "I like Sausage pizza.\n",
      "I really hate pizza \n"
     ]
    }
   ],
   "source": [
    "#4-1. Pizzas:\r\n",
    "favorite_pizza = ['Pepperoni','Mushroom','Cheese','Sausage']\r\n",
    "for pizza in favorite_pizza:\r\n",
    "    print(\"I like \"+pizza+\" pizza.\")\r\n",
    "print('I really hate pizza ')"
   ]
  },
  {
   "cell_type": "code",
   "execution_count": null,
   "metadata": {},
   "outputs": [],
   "source": [
    "#4-2. Animals:\r\n",
    "animals=['lion','tiger','cheetah']\r\n",
    "\r\n",
    "for animal in animals:\r\n",
    "    print(animal+\" is a one of the dangereous animal.\")\r\n",
    "print(\"All tha animals are wild animals\")"
   ]
  },
  {
   "cell_type": "code",
   "execution_count": null,
   "metadata": {},
   "outputs": [],
   "source": [
    "print(\"try\")"
   ]
  },
  {
   "cell_type": "code",
   "execution_count": null,
   "metadata": {},
   "outputs": [],
   "source": [
    "#4-3. Couting to twenty:\r\n",
    "\r\n",
    "for i in range(1,21):\r\n",
    "    print(i)"
   ]
  },
  {
   "cell_type": "code",
   "execution_count": null,
   "metadata": {},
   "outputs": [],
   "source": [
    "#4-4. One Million:\r\n",
    "for i in range(1,1000000):\r\n",
    "    print(i)"
   ]
  },
  {
   "cell_type": "code",
   "execution_count": 1,
   "metadata": {},
   "outputs": [
    {
     "output_type": "stream",
     "name": "stdout",
     "text": [
      "1\n1000000\n500000500000\n"
     ]
    }
   ],
   "source": [
    "#4-5. Summing a Million:\n",
    "num = range(1,1000001)\n",
    "print(min(num))\n",
    "print(max(num))\n",
    "print(sum(num))\n"
   ]
  },
  {
   "cell_type": "code",
   "execution_count": 2,
   "metadata": {},
   "outputs": [
    {
     "output_type": "stream",
     "name": "stdout",
     "text": [
      "1\n3\n5\n7\n9\n11\n13\n15\n17\n19\n"
     ]
    }
   ],
   "source": [
    "#4-6. Odd numbers:\n",
    "num=range(1,20,+2)\n",
    "for i in num:\n",
    "    print(i)"
   ]
  },
  {
   "cell_type": "code",
   "execution_count": 4,
   "metadata": {},
   "outputs": [
    {
     "output_type": "stream",
     "name": "stdout",
     "text": [
      "3\n6\n9\n12\n15\n18\n21\n24\n27\n30\n"
     ]
    }
   ],
   "source": [
    "#4-7. Threes:\n",
    "mul=range(3,31,+3)\n",
    "for i in mul:\n",
    "    print(i)"
   ]
  },
  {
   "cell_type": "code",
   "execution_count": 5,
   "metadata": {},
   "outputs": [
    {
     "output_type": "stream",
     "name": "stdout",
     "text": [
      "1\n8\n27\n64\n125\n216\n343\n512\n729\n1000\n"
     ]
    }
   ],
   "source": [
    "#4-8. CUbes:\n",
    "cubes=[]\n",
    "for value in range(1,11):\n",
    "    cube=value**3\n",
    "    cubes.append(cube)\n",
    "for value in cubes:\n",
    "    print(value)\n"
   ]
  },
  {
   "cell_type": "code",
   "execution_count": 6,
   "metadata": {},
   "outputs": [
    {
     "output_type": "stream",
     "name": "stdout",
     "text": [
      "[1, 8, 27, 64, 125, 216, 343, 512, 729, 1000]\n"
     ]
    }
   ],
   "source": [
    "#4-9. Cube comprehension:\n",
    "cubes=[value**3 for value in range(1,11)]\n",
    "print(cubes)"
   ]
  },
  {
   "cell_type": "code",
   "execution_count": 12,
   "metadata": {},
   "outputs": [
    {
     "output_type": "stream",
     "name": "stdout",
     "text": [
      "the first three numbers are:[1, 8, 27]\nthe middle three numbers are:[64, 125, 216]\nthe last three numbers are:[1000, 729, 512]\n"
     ]
    }
   ],
   "source": [
    "#4-10. Slices:\n",
    "#Using 4-9 as a list\n",
    "print(\"the first three numbers are:\"+ str(cubes[0:3]))\n",
    "print(\"the middle three numbers are:\"+ str(cubes[3:6]))\n",
    "print(\"the last three numbers are:\"+ str(cubes[-1:-4:-1]))"
   ]
  },
  {
   "cell_type": "code",
   "execution_count": 14,
   "metadata": {},
   "outputs": [
    {
     "output_type": "stream",
     "name": "stdout",
     "text": [
      "My favorite pizzas are:\nPepperoni\nMushroom\nCheese\nSausage\nVeg\n\nMy friend's favorite pizzas are:\nPepperoni\nMushroom\nCheese\nSausage\nChicken\n"
     ]
    }
   ],
   "source": [
    "#4-11. My Pizzas,Your Pizzas:\n",
    "favorite_pizzas = ['Pepperoni','Mushroom','Cheese','Sausage']\n",
    "friend_pizzas = favorite_pizzas[:]\n",
    "\n",
    "favorite_pizzas.append('Veg')\n",
    "friend_pizzas.append(\"Chicken\")\n",
    "\n",
    "print(\"My favorite pizzas are:\")\n",
    "for pizza in favorite_pizzas:\n",
    "    print(pizza)\n",
    "\n",
    "print(\"\\nMy friend's favorite pizzas are:\")\n",
    "for pizza in friend_pizzas:\n",
    "    print(pizza)"
   ]
  },
  {
   "cell_type": "code",
   "execution_count": 16,
   "metadata": {},
   "outputs": [
    {
     "output_type": "stream",
     "name": "stdout",
     "text": [
      "My foods are:\npizza\nfalafel\ncarrot\ncarrot cake\n\n My friend's foods are:\npizza\nfalafel\ncarrot\ncarrot cake\nice cream\n"
     ]
    }
   ],
   "source": [
    "#4-12. More Loops:\n",
    "#from PythonP1(copying List)\n",
    "my_foods=['pizza','falafel','carrot','carrot cake']\n",
    "friends_foods=my_foods[:]\n",
    "friends_foods.append('ice cream')\n",
    "\n",
    "print(\"My foods are:\")\n",
    "for food in my_foods:\n",
    "    print(food)\n",
    "\n",
    "print(\"\\n My friend's foods are:\")\n",
    "for food in friends_foods:\n",
    "    print(food)"
   ]
  },
  {
   "source": [
    "### Tuples"
   ],
   "cell_type": "markdown",
   "metadata": {}
  },
  {
   "cell_type": "code",
   "execution_count": 21,
   "metadata": {},
   "outputs": [
    {
     "output_type": "stream",
     "name": "stdout",
     "text": [
      "MoMo\nSekuwa\nBurger\nPizza\nCoffee\n\n\nMoMO\nChoila\nBurger\nPizza\nTea\n"
     ]
    }
   ],
   "source": [
    "#4-13. Buffet:\n",
    "basic_foods=('MoMo','Sekuwa','Burger','Pizza','Coffee')\n",
    "for food in basic_foods:\n",
    "    print(food)\n",
    "\n",
    "# basic_foods[4]=\"Tea\" \n",
    "print(\"\\n\")\n",
    "basic_foods=('MoMO','Choila','Burger','Pizza','Tea')\n",
    "for food in basic_foods:\n",
    "    print(food)"
   ]
  },
  {
   "cell_type": "code",
   "execution_count": 22,
   "metadata": {},
   "outputs": [
    {
     "output_type": "stream",
     "name": "stdout",
     "text": [
      "Not Intrested!\n"
     ]
    }
   ],
   "source": [
    "#4-14. PEP 8\n",
    "#4-15. Code Review:\n",
    "print(\"Not Intrested!\")"
   ]
  },
  {
   "source": [
    "## If Statements\n",
    "- Chapter 5"
   ],
   "cell_type": "markdown",
   "metadata": {}
  },
  {
   "cell_type": "code",
   "execution_count": 5,
   "metadata": {},
   "outputs": [
    {
     "output_type": "stream",
     "name": "stdout",
     "text": [
      "True\nFalse\nTrue\nTrue\nFalse\nFalse\n"
     ]
    }
   ],
   "source": [
    "#5-1. Conditional Tests:\n",
    "car =\"subaru\"\n",
    "print(car==\"subaru\")\n",
    "\n",
    "bike=\"Duke\"\n",
    "print(bike==\"duke\")\n",
    "\n",
    "num=5\n",
    "print(num==5)\n",
    "\n",
    "num=8\n",
    "print(num==4*2)\n",
    "\n",
    "num=7\n",
    "print(num==3*2)\n",
    "\n",
    "food=\"momo\"\n",
    "print(food==\"momo\")"
   ]
  },
  {
   "cell_type": "code",
   "execution_count": 17,
   "metadata": {},
   "outputs": [
    {
     "output_type": "stream",
     "name": "stdout",
     "text": [
      "True\n\n\nTrue\n\n\nTrue\nFalse\nTrue\nFalse\nTrue\nTrue\n\n\nFalse\nTrue\n\n\nWOw!, you got it\n\n\nYou failed!\n"
     ]
    }
   ],
   "source": [
    "#5-2. More Conditional Tests:\n",
    "bike=\"Duke\"\n",
    "print(bike.lower()=='duke')\n",
    "\n",
    "print(\"\\n\")\n",
    "print(bike!='duke')\n",
    "\n",
    "num=4\n",
    "print(\"\\n\")\n",
    "print(num>2)\n",
    "print(num<3)\n",
    "print(num==4)\n",
    "print(num!=4)\n",
    "print(num>=2)\n",
    "print(num<=4)\n",
    "\n",
    "print(\"\\n\")\n",
    "print(num>3 and num<4)\n",
    "print(num>3 or num==4)\n",
    "\n",
    "print(\"\\n\")\n",
    "num=[2,3,4,5,6]\n",
    "if 4 in num:\n",
    "    print(\"WOw!, you got it\")\n",
    "print(\"\\n\")\n",
    "if 1 not in num:\n",
    "    print(\"You failed!\")"
   ]
  },
  {
   "cell_type": "code",
   "execution_count": 23,
   "metadata": {},
   "outputs": [
    {
     "output_type": "stream",
     "name": "stdout",
     "text": [
      "you earned 5 points.\n\n\nyou earned 5 points\n"
     ]
    }
   ],
   "source": [
    "#5-3. ALien Colors #1:\n",
    "alien_color='green'\n",
    "if alien_color=='green':\n",
    "    print(\"you earned 5 points.\")\n",
    "\n",
    "print(\"\\n\")\n",
    "if alien_color==\"green\":\n",
    "    print(\"you earned 5 points\")\n",
    "if alien_color==\"red\":\n",
    "    print()"
   ]
  },
  {
   "cell_type": "code",
   "execution_count": 24,
   "metadata": {},
   "outputs": [
    {
     "output_type": "stream",
     "name": "stdout",
     "text": [
      "you jus eatned 5 points for shooting the alien\n\n\n\n\nyou jus eatned 5 points for shooting the alien\nCongrats you killed a green alien\n"
     ]
    }
   ],
   "source": [
    "#5-4: ALien Colors #2:\n",
    "alien=\"green\"\n",
    "if alien_color==\"green\":\n",
    "    print(\"you just eatned 5 points for shooting the alien\")\n",
    "print(\"\\n\")\n",
    "if alien_color!=\"green\":\n",
    "    print(\"you just earned 10 points\")\n",
    "\n",
    "print(\"\\n\")\n",
    "if alien_color==\"green\":\n",
    "    print(\"you just eatned 5 points for shooting the alien\")\n",
    "if alien_color!=\"green\":\n",
    "    print(\"you just earned 10 points\")\n",
    "else:\n",
    "    print(\"Congrats you killed a green alien\")"
   ]
  },
  {
   "cell_type": "code",
   "execution_count": 33,
   "metadata": {},
   "outputs": [
    {
     "output_type": "stream",
     "name": "stdout",
     "text": [
      "you just earned 15 points\n\n\nyou just earned 15 points\n"
     ]
    }
   ],
   "source": [
    "#5-5. Alien Colors #3:\n",
    "alien_color=\"red\"\n",
    "if alien_color==\"green\":\n",
    "    print(\"you just earned 5 points\")\n",
    "if alien_color==\"yellow\":\n",
    "    print(\"you just earned 10 points\")\n",
    "if alien_color==\"red\":\n",
    "    print(\"you just earned 15 points\")\n",
    "\n",
    "print(\"\\n\")\n",
    "if alien_color==\"green\":\n",
    "    print(\"you just earned 5 points\")\n",
    "elif alien_color==\"yellow\":\n",
    "    print(\"you just earned 10 points\")\n",
    "elif alien_color==\"red\":\n",
    "    print(\"you just earned 15 points\")"
   ]
  },
  {
   "cell_type": "code",
   "execution_count": 34,
   "metadata": {},
   "outputs": [
    {
     "output_type": "stream",
     "name": "stdout",
     "text": [
      "The person is kid\n"
     ]
    }
   ],
   "source": [
    "#5-6. Stages of life:\n",
    "age=10\n",
    "if age<2:\n",
    "    print(\"the person is baby\")\n",
    "elif age>=2 and age<4:\n",
    "    print(\"the person is a toddler\")\n",
    "elif age>=4 and age<13:\n",
    "    print(\"The person is kid\")\n",
    "elif age>=13 and age<20:\n",
    "    print(\"the person is a teenager\")\n",
    "elif age>=20 and age<65:\n",
    "    print(\"The persin is an adult\")\n",
    "else:\n",
    "    print(\"the person is an elder\")"
   ]
  },
  {
   "cell_type": "code",
   "execution_count": 36,
   "metadata": {},
   "outputs": [
    {
     "output_type": "stream",
     "name": "stdout",
     "text": [
      "you really like mangoes\nYou really like guavas\nYou really like papayas\n"
     ]
    }
   ],
   "source": [
    "#5-7. Favorite Fruit:\n",
    "favorite_fruits=['mango','guava','papaya']\n",
    "if \"mango\" in favorite_fruits:\n",
    "    print(\"you really like mangoes\")\n",
    "if \"banana\" in favorite_fruits:\n",
    "    print(\"You really like bananas\")\n",
    "if \"guava\" in favorite_fruits:\n",
    "    print(\"You really like guavas\")\n",
    "if \"strawberry\" in favorite_fruits:\n",
    "    print(\"You really like strawberries\")\n",
    "if \"papaya\" in favorite_fruits:\n",
    "    print(\"You really like papayas\")\n",
    "\n"
   ]
  },
  {
   "cell_type": "code",
   "execution_count": 37,
   "metadata": {},
   "outputs": [
    {
     "output_type": "stream",
     "name": "stdout",
     "text": [
      "Hello admin, would you like to see a status report?\nHello iush10, thnak you for loging in again.\nHello hishanstha, thnak you for loging in again.\nHello zaxiya, thnak you for loging in again.\nHello squidward, thnak you for loging in again.\n"
     ]
    }
   ],
   "source": [
    "#5-8. Hello admin:\n",
    "usernames=['admin','iush10','hishanstha','zaxiya','squidward']\n",
    "\n",
    "for name in usernames:\n",
    "    if name=='admin':\n",
    "        print(\"Hello admin, would you like to see a status report?\")\n",
    "    else:\n",
    "        print(\"Hello \"+name+\", thank you for loging in again.\")\n",
    "\n",
    "\n"
   ]
  },
  {
   "cell_type": "code",
   "execution_count": 48,
   "metadata": {},
   "outputs": [
    {
     "output_type": "stream",
     "name": "stdout",
     "text": [
      "Hello admin, would you like to see a status report?\nHello iush10, thank you for loging in again.\nHello hishanstha, thank you for loging in again.\nHello zaxiya, thank you for loging in again.\nHello squidward, thank you for loging in again.\nwe need to some users\n"
     ]
    }
   ],
   "source": [
    "#5-9. No Users:\n",
    "usernames=['admin','iush10','hishanstha','zaxiya','squidward']\n",
    "\n",
    "\n",
    "for name in usernames:\n",
    "    if name=='admin':\n",
    "        print(\"Hello admin, would you like to see a status report?\")\n",
    "    else:\n",
    "        print(\"Hello \"+name+\", thank you for loging in again.\")\n",
    "\n",
    "usernames.pop()\n",
    "usernames.pop()\n",
    "usernames.pop()\n",
    "usernames.pop()\n",
    "usernames.pop()\n",
    "\n",
    "if usernames==[]:\n",
    "    print(\"we need to some users\")\n"
   ]
  },
  {
   "cell_type": "code",
   "execution_count": null,
   "metadata": {},
   "outputs": [],
   "source": []
  }
 ],
 "metadata": {
  "interpreter": {
   "hash": "01e4a4ef43d7435a6845fd7336130797196ba9e9ad58f05806271349b7c58ab1"
  },
  "kernelspec": {
   "name": "python382jvsc74a57bd001e4a4ef43d7435a6845fd7336130797196ba9e9ad58f05806271349b7c58ab1",
   "display_name": "Python 3.8.2 64-bit"
  },
  "language_info": {
   "name": "python",
   "version": "3.8.2"
  },
  "metadata": {
   "interpreter": {
    "hash": "01e4a4ef43d7435a6845fd7336130797196ba9e9ad58f05806271349b7c58ab1"
   }
  },
  "orig_nbformat": 2
 },
 "nbformat": 4,
 "nbformat_minor": 2
}