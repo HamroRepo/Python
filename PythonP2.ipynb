{
 "metadata": {
  "language_info": {
   "codemirror_mode": {
    "name": "ipython",
    "version": 3
   },
   "file_extension": ".py",
   "mimetype": "text/x-python",
   "name": "python",
   "nbconvert_exporter": "python",
   "pygments_lexer": "ipython3",
   "version": "3.8.2"
  },
  "orig_nbformat": 2,
  "kernelspec": {
   "name": "python382jvsc74a57bd001e4a4ef43d7435a6845fd7336130797196ba9e9ad58f05806271349b7c58ab1",
   "display_name": "Python 3.8.2 64-bit"
  },
  "metadata": {
   "interpreter": {
    "hash": "01e4a4ef43d7435a6845fd7336130797196ba9e9ad58f05806271349b7c58ab1"
   }
  }
 },
 "nbformat": 4,
 "nbformat_minor": 2,
 "cells": [
  {
   "source": [
    "# Python Bro"
   ],
   "cell_type": "markdown",
   "metadata": {}
  },
  {
   "source": [
    "# Dictionaries\n",
    "- is a collection of key-value pair\n",
    "- key is connected to a value\n",
    "- u can use key to access the value associated with that key.\n",
    "- key value can be a number,a string, a list or even another dictionary\n",
    "- it is wrapped in curly braces i.e. {}"
   ],
   "cell_type": "markdown",
   "metadata": {}
  },
  {
   "cell_type": "code",
   "execution_count": 2,
   "metadata": {},
   "outputs": [
    {
     "output_type": "stream",
     "name": "stdout",
     "text": [
      "green\n5\n"
     ]
    }
   ],
   "source": [
    "# simple dictionary\n",
    "alien_0 ={'color':'green','points':5}\n",
    "print(alien_0['color'])\n",
    "print(alien_0['points'])"
   ]
  },
  {
   "cell_type": "code",
   "execution_count": 3,
   "metadata": {},
   "outputs": [
    {
     "output_type": "stream",
     "name": "stdout",
     "text": [
      "green\n"
     ]
    }
   ],
   "source": [
    "# accessing values in a dictionary\n",
    "alien_0={'color':'green'}\n",
    "print(alien_0['color'])"
   ]
  },
  {
   "cell_type": "code",
   "execution_count": 8,
   "metadata": {},
   "outputs": [
    {
     "output_type": "stream",
     "name": "stdout",
     "text": [
      "you just earned 5 points!\n"
     ]
    }
   ],
   "source": [
    "alien_0 ={'color':'green','points':5}\n",
    "new_points=alien_0['points']\n",
    "print(\"you just earned \"+ str(new_points)+\" points!\")"
   ]
  },
  {
   "cell_type": "code",
   "execution_count": 11,
   "metadata": {},
   "outputs": [
    {
     "output_type": "stream",
     "name": "stdout",
     "text": [
      "{'color': 'green', 'points': 5, 'x_position': 0, 'y_position': 25}\n"
     ]
    }
   ],
   "source": [
    "# adding new key-value pairs\n",
    "alien_0 ={'color':'green','points':5}\n",
    "alien_0['x_position']=0\n",
    "alien_0['y_position']=25\n",
    "print(alien_0)"
   ]
  },
  {
   "cell_type": "code",
   "execution_count": 16,
   "metadata": {},
   "outputs": [
    {
     "output_type": "stream",
     "name": "stdout",
     "text": [
      "{'color': 'green', 'points': 5}\n"
     ]
    }
   ],
   "source": [
    "#starting with an empty dictionary\n",
    "alien_0={}\n",
    "alien_0['color']='green'\n",
    "alien_0['points']=5\n",
    "print(alien_0)"
   ]
  },
  {
   "cell_type": "code",
   "execution_count": 19,
   "metadata": {},
   "outputs": [
    {
     "output_type": "stream",
     "name": "stdout",
     "text": [
      "the alien is green.\nthe alien is now yellow.\n"
     ]
    }
   ],
   "source": [
    "#modifying values in a dicitonary\n",
    "alien_0={'color':'green'}\n",
    "print('the alien is '+ alien_0['color']+'.')\n",
    "\n",
    "alien_0['color']='yellow'\n",
    "print(\"the alien is now \"+ alien_0['color']+ '.');"
   ]
  },
  {
   "cell_type": "code",
   "execution_count": 1,
   "metadata": {},
   "outputs": [
    {
     "output_type": "stream",
     "name": "stdout",
     "text": [
      "{'color': 'green', 'points': 5}\n{'points': 5}\n"
     ]
    }
   ],
   "source": [
    "# removing key-value pairs\n",
    "alien_0={'color':'green','points':5}\n",
    "print(alien_0)\n",
    "\n",
    "del alien_0['color']\n",
    "print(alien_0)\n",
    "\n",
    "# del alien_0['color'] tells python to deete the key 'points' from the dictionary alien_0 and to remove the value associated with that key as well."
   ]
  },
  {
   "cell_type": "code",
   "execution_count": 3,
   "metadata": {},
   "outputs": [
    {
     "output_type": "stream",
     "name": "stdout",
     "text": [
      "Sarah's favorite labguage is C.\n"
     ]
    }
   ],
   "source": [
    "# a dicitonary of similar objects\n",
    "\n",
    "favroite_langugaes={\n",
    "    'jen':'python',\n",
    "    'sarah':'c',\n",
    "    'edward':'ruby',\n",
    "    'phil':'python'\n",
    "}\n",
    "\n",
    "print(\"Sarah's favorite labguage is \"+  favroite_langugaes['sarah'].title()+'.')"
   ]
  },
  {
   "cell_type": "code",
   "execution_count": 7,
   "metadata": {},
   "outputs": [
    {
     "output_type": "stream",
     "name": "stdout",
     "text": [
      "\nkey: username\nvalue :efermi\n\nkey: first\nvalue :enrico\n\nkey: last\nvalue :fermi\n"
     ]
    }
   ],
   "source": [
    "#looping through all the key-values pairs\n",
    "user_0={\n",
    "    'username':'efermi',\n",
    "    'first':'enrico',\n",
    "    'last':'fermi',\n",
    "}\n",
    "\n",
    "for key,value in user_0.items():\n",
    "    print(\"\\nkey: \"+key)\n",
    "    print('value :'+value)\n"
   ]
  },
  {
   "cell_type": "code",
   "execution_count": 9,
   "metadata": {},
   "outputs": [
    {
     "output_type": "stream",
     "name": "stdout",
     "text": [
      "Jen's favorite language is Python.\nSarah's favorite language is C.\nEdward's favorite language is Ruby.\nPhil's favorite language is Python.\n"
     ]
    }
   ],
   "source": [
    "favroite_langugaes={\n",
    "    'jen':'python',\n",
    "    'sarah':'c',\n",
    "    'edward':'ruby',\n",
    "    'phil':'python'\n",
    "}\n",
    "\n",
    "for name,language in favroite_langugaes.items():\n",
    "    print(name.title()+\"'s favorite language is \"+language.title()+'.')"
   ]
  },
  {
   "cell_type": "code",
   "execution_count": 10,
   "metadata": {},
   "outputs": [
    {
     "output_type": "stream",
     "name": "stdout",
     "text": [
      "Name: jen\nName: sarah\nName: edward\nName: phil\n"
     ]
    }
   ],
   "source": [
    "#looping through all the keys in a dictionary\n",
    "favroite_langugaes={\n",
    "    'jen':'python',\n",
    "    'sarah':'c',\n",
    "    'edward':'ruby',\n",
    "    'phil':'python'\n",
    "}\n",
    "\n",
    "for name in favroite_langugaes.keys():\n",
    "    print(\"Name: \"+ name)"
   ]
  },
  {
   "cell_type": "code",
   "execution_count": 14,
   "metadata": {},
   "outputs": [
    {
     "output_type": "stream",
     "name": "stdout",
     "text": [
      "Jen\nSarah\nHiSarah, I see your favorite language is C!\nEdward\nPhil\nHiPhil, I see your favorite language is Python!\n"
     ]
    }
   ],
   "source": [
    "favroite_langugaes={\n",
    "    'jen':'python',\n",
    "    'sarah':'c',\n",
    "    'edward':'ruby',\n",
    "    'phil':'python'\n",
    "}\n",
    "\n",
    "friends=['phil','sarah']\n",
    "for name in favroite_langugaes.keys():\n",
    "    print(name.title())\n",
    "\n",
    "    if name in friends:\n",
    "        print(\"Hi\"+name.title()+\", I see your favorite language is \"+ favroite_langugaes[name].title()+'!')"
   ]
  },
  {
   "cell_type": "code",
   "execution_count": 1,
   "metadata": {},
   "outputs": [
    {
     "output_type": "stream",
     "name": "stdout",
     "text": [
      "Erin, please take a poll!\n"
     ]
    }
   ],
   "source": [
    "favroite_langugaes={\n",
    "    'jen':'python',\n",
    "    'sarah':'c',\n",
    "    'edward':'ruby',\n",
    "    'phil':'python'\n",
    "}\n",
    "\n",
    "if 'erin' not in favroite_langugaes.keys():\n",
    "    print(\"Erin, please take a poll!\")"
   ]
  },
  {
   "cell_type": "code",
   "execution_count": 2,
   "metadata": {},
   "outputs": [
    {
     "output_type": "stream",
     "name": "stdout",
     "text": [
      "Edward, thank you for taking the poll.\nJen, thank you for taking the poll.\nPhil, thank you for taking the poll.\nSarah, thank you for taking the poll.\n"
     ]
    }
   ],
   "source": [
    "# looping thriugh a dicitonary;s keys in order\n",
    "\n",
    "favroite_langugaes={\n",
    "    'jen':'python',\n",
    "    'sarah':'c',\n",
    "    'edward':'ruby',\n",
    "    'phil':'python'\n",
    "}\n",
    "\n",
    "for name in sorted(favroite_langugaes.keys()):\n",
    "    print(name.title()+\", thank you for taking the poll.\")"
   ]
  },
  {
   "cell_type": "code",
   "execution_count": 3,
   "metadata": {},
   "outputs": [
    {
     "output_type": "stream",
     "name": "stdout",
     "text": [
      "The following language have been mentinoed:\nPython\nC\nRuby\nPython\n"
     ]
    }
   ],
   "source": [
    "# looping through all the values in a dicitonary\n",
    "\n",
    "favroite_langugaes={\n",
    "    'jen':'python',\n",
    "    'sarah':'c',\n",
    "    'edward':'ruby',\n",
    "    'phil':'python'\n",
    "}\n",
    "print(\"The following language have been mentinoed:\")\n",
    "for language in favroite_langugaes.values():\n",
    "    print(language.title())\n",
    "# here when the values are repeated the repeated values are not checked and is printed"
   ]
  },
  {
   "cell_type": "code",
   "execution_count": 4,
   "metadata": {},
   "outputs": [
    {
     "output_type": "stream",
     "name": "stdout",
     "text": [
      "THe following language have been mentioned:\nPython\nC\nRuby\n"
     ]
    }
   ],
   "source": [
    "# to overcome the problem in above statement we use set\n",
    "# set is similar to list except that each item in a set must be unique\n",
    "\n",
    "favroite_langugaes={\n",
    "    'jen':'python',\n",
    "    'sarah':'c',\n",
    "    'edward':'ruby',\n",
    "    'phil':'python'\n",
    "}\n",
    "print('THe following language have been mentioned:')\n",
    "for language in set(favroite_langugaes.values()):\n",
    "    print(language.title())"
   ]
  },
  {
   "source": [
    "## Nesting\n",
    "- sometimes we want to store a set of dicitonaries in a list or a list of items as a value in a dcitionary. this is called nesting.\n"
   ],
   "cell_type": "markdown",
   "metadata": {}
  },
  {
   "source": [
    "### A list of dictionaries\n"
   ],
   "cell_type": "markdown",
   "metadata": {}
  },
  {
   "cell_type": "code",
   "execution_count": 6,
   "metadata": {},
   "outputs": [
    {
     "output_type": "stream",
     "name": "stdout",
     "text": [
      "[{'color': 'green', 'points': 5}, {'color': 'red', 'points': 15}, {'color': 'yellow', 'points': 10}]\n"
     ]
    }
   ],
   "source": [
    "alien_0={'color':'green','points':5}\n",
    "alien_1={'color':'yellow','points':10}\n",
    "alien_2={'color':\"red\",'points':15}\n",
    "alien=[alien_0,alien_2,alien_1]\n",
    "\n",
    "print(alien)"
   ]
  },
  {
   "cell_type": "code",
   "execution_count": 1,
   "metadata": {},
   "outputs": [
    {
     "output_type": "stream",
     "name": "stdout",
     "text": [
      "{'color': 'green', 'points': 5, 'speed': 'slow'}\n{'color': 'green', 'points': 5, 'speed': 'slow'}\n{'color': 'green', 'points': 5, 'speed': 'slow'}\n{'color': 'green', 'points': 5, 'speed': 'slow'}\n{'color': 'green', 'points': 5, 'speed': 'slow'}\n....\nTotal no of aliens:30\n"
     ]
    }
   ],
   "source": [
    "aliens=[]\n",
    "for alien_number in range(30):\n",
    "    new_alien={'color':'green','points':5,'speed':'slow'}\n",
    "    aliens.append(new_alien)\n",
    "\n",
    "for alien in aliens[:5]:\n",
    "    print(alien)\n",
    "print('....')\n",
    "\n",
    "print('Total no of aliens:'+str(len(aliens)))"
   ]
  },
  {
   "cell_type": "code",
   "execution_count": 4,
   "metadata": {},
   "outputs": [
    {
     "output_type": "stream",
     "name": "stdout",
     "text": [
      "{'color': 'yellow', 'points': 10, 'speed': 'medium'}\n{'color': 'yellow', 'points': 10, 'speed': 'medium'}\n{'color': 'yellow', 'points': 10, 'speed': 'medium'}\n{'color': 'green', 'points': 5, 'speed': 'slow'}\n{'color': 'green', 'points': 5, 'speed': 'slow'}\n"
     ]
    }
   ],
   "source": [
    "aliens=[]\n",
    "\n",
    "for alien_number in range(0,30):\n",
    "    new_alien={'color':'green','points':5,'speed':'slow'}\n",
    "    aliens.append(new_alien)\n",
    "\n",
    "for alien in aliens[0:3]:\n",
    "    if alien['color']=='green':\n",
    "        alien['color']='yellow'\n",
    "        alien['points']=10\n",
    "        alien['speed']='medium'\n",
    "for alien in aliens[0:5]:\n",
    "    print(alien)\n"
   ]
  },
  {
   "source": [
    "### list in a dictionary"
   ],
   "cell_type": "markdown",
   "metadata": {}
  },
  {
   "cell_type": "code",
   "execution_count": 8,
   "metadata": {},
   "outputs": [
    {
     "output_type": "stream",
     "name": "stdout",
     "text": [
      "you ordered a thick-crust pizza with the following toppings:\nmushroom\nextra cheese\n"
     ]
    }
   ],
   "source": [
    "pizza={\n",
    "    'crust':'thick',\n",
    "    'toppings':['mushroom','extra cheese']\n",
    "}\n",
    "\n",
    "print('you ordered a '+ pizza['crust']+ '-crust pizza with the following toppings:')\n",
    "\n",
    "for topping in pizza['toppings']:\n",
    "    print(topping)"
   ]
  },
  {
   "cell_type": "code",
   "execution_count": 12,
   "metadata": {},
   "outputs": [
    {
     "output_type": "stream",
     "name": "stdout",
     "text": [
      "\nJen's favorite language are:\n\t Python\n\t Ruby\n\nSarah's favorite language are:\n\t C\n\nEdward's favorite language are:\n\t Ruby\n\t Go\n\nPhil's favorite language are:\n\t Python\n\t Haskell\n"
     ]
    }
   ],
   "source": [
    "favorite_languages={\n",
    "    'jen':['python','ruby'],\n",
    "    'sarah':['c'],\n",
    "    'edward':['ruby','go'],\n",
    "    'phil':['python','haskell']\n",
    "}\n",
    "\n",
    "for name,languages in favorite_languages.items():\n",
    "    print('\\n'+name.title()+\"'s favorite language are:\")\n",
    "\n",
    "    for language in languages:\n",
    "        print(\"\\t \"+language.title())"
   ]
  },
  {
   "source": [
    "### dictionary in dictionary\n"
   ],
   "cell_type": "markdown",
   "metadata": {}
  },
  {
   "cell_type": "code",
   "execution_count": 9,
   "metadata": {},
   "outputs": [
    {
     "output_type": "stream",
     "name": "stdout",
     "text": [
      "\n Username:aeinstein\n\tFull Name: Albert Einstein\n\tLocation: Princeton\n\n Username:mcurie\n\tFull Name: Marie Curie\n\tLocation: Paris\n"
     ]
    }
   ],
   "source": [
    "users={\n",
    "    'aeinstein':{\n",
    "        'first':'albert',\n",
    "        'last':'einstein',\n",
    "        'location':'princeton'\n",
    "    },\n",
    "    'mcurie':{\n",
    "        'first':'marie',\n",
    "        'last':'curie',\n",
    "        'location':'paris'\n",
    "\n",
    "    }\n",
    "}\n",
    "\n",
    "for username,user_info in users.items():\n",
    "    print(\"\\n Username:\"+username)\n",
    "\n",
    "    full_name = user_info['first']+' '+user_info['last']\n",
    "    location=user_info['location']\n",
    "    print(\"\\tFull Name: \" + full_name.title())\n",
    "    print(\"\\tLocation: \"+location.title())"
   ]
  },
  {
   "source": [
    "## User Input and While Loops\n",
    "- Chapter 7"
   ],
   "cell_type": "markdown",
   "metadata": {}
  },
  {
   "cell_type": "code",
   "execution_count": null,
   "metadata": {},
   "outputs": [],
   "source": []
  }
 ]
}